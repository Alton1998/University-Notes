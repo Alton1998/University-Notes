{
  "nbformat": 4,
  "nbformat_minor": 0,
  "metadata": {
    "colab": {
      "provenance": [],
      "authorship_tag": "ABX9TyNWcOZVHMHe9XXR4s4oA14B",
      "include_colab_link": true
    },
    "kernelspec": {
      "name": "python3",
      "display_name": "Python 3"
    },
    "language_info": {
      "name": "python"
    }
  },
  "cells": [
    {
      "cell_type": "markdown",
      "metadata": {
        "id": "view-in-github",
        "colab_type": "text"
      },
      "source": [
        "<a href=\"https://colab.research.google.com/github/Alton1998/University-Notes/blob/main/Analysis_of_Mean_and_Gaussian_filter_Frequencies-v2.ipynb\" target=\"_parent\"><img src=\"https://colab.research.google.com/assets/colab-badge.svg\" alt=\"Open In Colab\"/></a>"
      ]
    },
    {
      "cell_type": "code",
      "execution_count": 28,
      "metadata": {
        "id": "gTI3IFtj4T7W"
      },
      "outputs": [],
      "source": [
        "import numpy as np\n",
        "import scipy\n",
        "import matplotlib.pyplot as plt\n",
        "from matplotlib.colors import LogNorm\n"
      ]
    },
    {
      "cell_type": "code",
      "source": [
        "!pip install mayavi"
      ],
      "metadata": {
        "colab": {
          "base_uri": "https://localhost:8080/"
        },
        "id": "1tIaguXv5Q3u",
        "outputId": "e6097808-09f1-41fc-e20d-ad9f932c3a23"
      },
      "execution_count": 29,
      "outputs": [
        {
          "output_type": "stream",
          "name": "stdout",
          "text": [
            "Requirement already satisfied: mayavi in /usr/local/lib/python3.10/dist-packages (4.8.1)\n",
            "Requirement already satisfied: apptools in /usr/local/lib/python3.10/dist-packages (from mayavi) (5.2.1)\n",
            "Requirement already satisfied: envisage in /usr/local/lib/python3.10/dist-packages (from mayavi) (7.0.3)\n",
            "Requirement already satisfied: numpy in /usr/local/lib/python3.10/dist-packages (from mayavi) (1.23.5)\n",
            "Requirement already satisfied: pyface>=6.1.1 in /usr/local/lib/python3.10/dist-packages (from mayavi) (8.0.0)\n",
            "Requirement already satisfied: pygments in /usr/local/lib/python3.10/dist-packages (from mayavi) (2.16.1)\n",
            "Requirement already satisfied: traits>=6.0.0 in /usr/local/lib/python3.10/dist-packages (from mayavi) (6.4.3)\n",
            "Requirement already satisfied: traitsui>=7.0.0 in /usr/local/lib/python3.10/dist-packages (from mayavi) (8.0.0)\n",
            "Requirement already satisfied: packaging in /usr/local/lib/python3.10/dist-packages (from mayavi) (23.2)\n",
            "Requirement already satisfied: vtk in /usr/local/lib/python3.10/dist-packages (from mayavi) (9.2.6)\n",
            "Requirement already satisfied: configobj in /usr/local/lib/python3.10/dist-packages (from apptools->mayavi) (5.0.8)\n",
            "Requirement already satisfied: setuptools in /usr/local/lib/python3.10/dist-packages (from envisage->mayavi) (67.7.2)\n",
            "Requirement already satisfied: matplotlib>=2.0.0 in /usr/local/lib/python3.10/dist-packages (from vtk->mayavi) (3.7.1)\n",
            "Requirement already satisfied: contourpy>=1.0.1 in /usr/local/lib/python3.10/dist-packages (from matplotlib>=2.0.0->vtk->mayavi) (1.1.1)\n",
            "Requirement already satisfied: cycler>=0.10 in /usr/local/lib/python3.10/dist-packages (from matplotlib>=2.0.0->vtk->mayavi) (0.12.1)\n",
            "Requirement already satisfied: fonttools>=4.22.0 in /usr/local/lib/python3.10/dist-packages (from matplotlib>=2.0.0->vtk->mayavi) (4.43.1)\n",
            "Requirement already satisfied: kiwisolver>=1.0.1 in /usr/local/lib/python3.10/dist-packages (from matplotlib>=2.0.0->vtk->mayavi) (1.4.5)\n",
            "Requirement already satisfied: pillow>=6.2.0 in /usr/local/lib/python3.10/dist-packages (from matplotlib>=2.0.0->vtk->mayavi) (9.4.0)\n",
            "Requirement already satisfied: pyparsing>=2.3.1 in /usr/local/lib/python3.10/dist-packages (from matplotlib>=2.0.0->vtk->mayavi) (3.1.1)\n",
            "Requirement already satisfied: python-dateutil>=2.7 in /usr/local/lib/python3.10/dist-packages (from matplotlib>=2.0.0->vtk->mayavi) (2.8.2)\n",
            "Requirement already satisfied: six in /usr/local/lib/python3.10/dist-packages (from configobj->apptools->mayavi) (1.16.0)\n"
          ]
        }
      ]
    },
    {
      "cell_type": "code",
      "source": [
        "!pip install PyQt5"
      ],
      "metadata": {
        "colab": {
          "base_uri": "https://localhost:8080/"
        },
        "id": "euU-NNI25ph8",
        "outputId": "8d27912b-468b-4852-9ccb-ab10fd360a16"
      },
      "execution_count": 30,
      "outputs": [
        {
          "output_type": "stream",
          "name": "stdout",
          "text": [
            "Requirement already satisfied: PyQt5 in /usr/local/lib/python3.10/dist-packages (5.15.10)\n",
            "Requirement already satisfied: PyQt5-sip<13,>=12.13 in /usr/local/lib/python3.10/dist-packages (from PyQt5) (12.13.0)\n",
            "Requirement already satisfied: PyQt5-Qt5>=5.15.2 in /usr/local/lib/python3.10/dist-packages (from PyQt5) (5.15.2)\n"
          ]
        }
      ]
    },
    {
      "cell_type": "code",
      "source": [],
      "metadata": {
        "id": "2SFVX1mD5qia"
      },
      "execution_count": 30,
      "outputs": []
    },
    {
      "cell_type": "markdown",
      "source": [
        "# Defining the Mean Filter and the Gaussian Filter"
      ],
      "metadata": {
        "id": "mVUi5GZK6hn7"
      }
    },
    {
      "cell_type": "code",
      "source": [
        "AM_FILTER_5 = np.ones((5,5))/25"
      ],
      "metadata": {
        "id": "8fqsstQd40JT"
      },
      "execution_count": 31,
      "outputs": []
    },
    {
      "cell_type": "code",
      "source": [
        "AM_FILTER_5"
      ],
      "metadata": {
        "colab": {
          "base_uri": "https://localhost:8080/"
        },
        "id": "SBPFb2I4496J",
        "outputId": "67dbfa4f-b221-45f1-df4f-5cdcf3691526"
      },
      "execution_count": 32,
      "outputs": [
        {
          "output_type": "execute_result",
          "data": {
            "text/plain": [
              "array([[0.04, 0.04, 0.04, 0.04, 0.04],\n",
              "       [0.04, 0.04, 0.04, 0.04, 0.04],\n",
              "       [0.04, 0.04, 0.04, 0.04, 0.04],\n",
              "       [0.04, 0.04, 0.04, 0.04, 0.04],\n",
              "       [0.04, 0.04, 0.04, 0.04, 0.04]])"
            ]
          },
          "metadata": {},
          "execution_count": 32
        }
      ]
    },
    {
      "cell_type": "code",
      "source": [
        "gaussian_filter = [[1,4,7,4,1],\n",
        "                   [4,16,26,16,4],\n",
        "                   [7,26,41,26,7],\n",
        "                   [4,16,26,16,4],\n",
        "                   [1,4,7,4,1]\n",
        "                   ]"
      ],
      "metadata": {
        "id": "VbKi5Pqq5y71"
      },
      "execution_count": 33,
      "outputs": []
    },
    {
      "cell_type": "code",
      "source": [
        "gaussian_filter = np.array(gaussian_filter)/273"
      ],
      "metadata": {
        "id": "Aul3s-XO6Peo"
      },
      "execution_count": 34,
      "outputs": []
    },
    {
      "cell_type": "code",
      "source": [
        "gaussian_filter"
      ],
      "metadata": {
        "colab": {
          "base_uri": "https://localhost:8080/"
        },
        "id": "Lp_xVyjQ6VhG",
        "outputId": "48b6faf3-5b4a-4057-c883-9bd4005cc1a4"
      },
      "execution_count": 35,
      "outputs": [
        {
          "output_type": "execute_result",
          "data": {
            "text/plain": [
              "array([[0.003663  , 0.01465201, 0.02564103, 0.01465201, 0.003663  ],\n",
              "       [0.01465201, 0.05860806, 0.0952381 , 0.05860806, 0.01465201],\n",
              "       [0.02564103, 0.0952381 , 0.15018315, 0.0952381 , 0.02564103],\n",
              "       [0.01465201, 0.05860806, 0.0952381 , 0.05860806, 0.01465201],\n",
              "       [0.003663  , 0.01465201, 0.02564103, 0.01465201, 0.003663  ]])"
            ]
          },
          "metadata": {},
          "execution_count": 35
        }
      ]
    },
    {
      "cell_type": "markdown",
      "source": [
        "# Fourier Analysis of the Arithmetic mean filter and the Gaussian Filter (Before Zero Padding)"
      ],
      "metadata": {
        "id": "lKmtmEUy6rr3"
      }
    },
    {
      "cell_type": "code",
      "source": [
        "fft_am = scipy.fft.fft2(AM_FILTER_5)"
      ],
      "metadata": {
        "id": "r2h6ARr87azM"
      },
      "execution_count": 36,
      "outputs": []
    },
    {
      "cell_type": "code",
      "source": [
        "fft_am"
      ],
      "metadata": {
        "colab": {
          "base_uri": "https://localhost:8080/"
        },
        "id": "NLwC79kZ7i11",
        "outputId": "589b8a5e-2e29-4de5-d603-d3e6db56e043"
      },
      "execution_count": 37,
      "outputs": [
        {
          "output_type": "execute_result",
          "data": {
            "text/plain": [
              "array([[ 1.00000000e+00-0.j,  6.93889390e-17+0.j,  3.46944695e-17+0.j,\n",
              "         3.46944695e-17-0.j,  6.93889390e-17-0.j],\n",
              "       [ 0.00000000e+00+0.j,  0.00000000e+00+0.j,  0.00000000e+00+0.j,\n",
              "         0.00000000e+00-0.j,  0.00000000e+00-0.j],\n",
              "       [-2.77555756e-17+0.j,  0.00000000e+00+0.j,  0.00000000e+00+0.j,\n",
              "         0.00000000e+00-0.j,  0.00000000e+00-0.j],\n",
              "       [-2.77555756e-17-0.j,  0.00000000e+00+0.j,  0.00000000e+00+0.j,\n",
              "         0.00000000e+00-0.j,  0.00000000e+00-0.j],\n",
              "       [ 0.00000000e+00-0.j,  0.00000000e+00+0.j,  0.00000000e+00+0.j,\n",
              "         0.00000000e+00-0.j,  0.00000000e+00-0.j]])"
            ]
          },
          "metadata": {},
          "execution_count": 37
        }
      ]
    },
    {
      "cell_type": "code",
      "source": [
        "plt.imshow(np.abs(fft_am))\n",
        "plt.colorbar()"
      ],
      "metadata": {
        "colab": {
          "base_uri": "https://localhost:8080/",
          "height": 452
        },
        "id": "m-B1lCds7oAa",
        "outputId": "80f9143f-6f47-428d-db18-04666836c0c3"
      },
      "execution_count": 38,
      "outputs": [
        {
          "output_type": "execute_result",
          "data": {
            "text/plain": [
              "<matplotlib.colorbar.Colorbar at 0x7df85064b160>"
            ]
          },
          "metadata": {},
          "execution_count": 38
        },
        {
          "output_type": "display_data",
          "data": {
            "text/plain": [
              "<Figure size 640x480 with 2 Axes>"
            ],
            "image/png": "[encoded data removed]"
          },
          "metadata": {}
        }
      ]
    },
    {
      "cell_type": "code",
      "source": [
        "fft_gauss = scipy.fft.fft2(gaussian_filter)"
      ],
      "metadata": {
        "id": "QeWEAsVo8AhM"
      },
      "execution_count": 39,
      "outputs": []
    },
    {
      "cell_type": "code",
      "source": [
        "fft_gauss"
      ],
      "metadata": {
        "colab": {
          "base_uri": "https://localhost:8080/"
        },
        "id": "hBCIT0uB8zm4",
        "outputId": "c73e4489-f719-4003-cf8c-3c58ca30aacb"
      },
      "execution_count": 40,
      "outputs": [
        {
          "output_type": "execute_result",
          "data": {
            "text/plain": [
              "array([[ 1.00000000e+00-0.00000000e+00j, -3.56452489e-01-2.58977892e-01j,\n",
              "         1.21301447e-02+3.73327465e-02j,  1.21301447e-02-3.73327465e-02j,\n",
              "        -3.56452489e-01+2.58977892e-01j],\n",
              "       [-3.56452489e-01-2.58977892e-01j,  5.79715675e-02+1.78418139e-01j,\n",
              "         3.39579115e-03-1.04511705e-02j, -8.89029664e-03+6.45917860e-03j,\n",
              "         1.87599933e-01+1.38777878e-17j],\n",
              "       [ 1.21301447e-02+3.73327465e-02j,  3.39579115e-03-1.04511705e-02j,\n",
              "         6.36491131e-04-4.62437875e-04j, -7.86746305e-04+3.14418630e-18j,\n",
              "        -8.89029664e-03-6.45917860e-03j],\n",
              "       [ 1.21301447e-02-3.73327465e-02j, -8.89029664e-03+6.45917860e-03j,\n",
              "        -7.86746305e-04-3.14418630e-18j,  6.36491131e-04+4.62437875e-04j,\n",
              "         3.39579115e-03+1.04511705e-02j],\n",
              "       [-3.56452489e-01+2.58977892e-01j,  1.87599933e-01-1.38777878e-17j,\n",
              "        -8.89029664e-03-6.45917860e-03j,  3.39579115e-03+1.04511705e-02j,\n",
              "         5.79715675e-02-1.78418139e-01j]])"
            ]
          },
          "metadata": {},
          "execution_count": 40
        }
      ]
    },
    {
      "cell_type": "code",
      "source": [
        "plt.imshow(np.abs(fft_gauss))\n",
        "plt.colorbar()"
      ],
      "metadata": {
        "colab": {
          "base_uri": "https://localhost:8080/",
          "height": 452
        },
        "id": "uWqlNbr681Em",
        "outputId": "34688683-2a3e-4cf9-a8ad-77dee16d7690"
      },
      "execution_count": 41,
      "outputs": [
        {
          "output_type": "execute_result",
          "data": {
            "text/plain": [
              "<matplotlib.colorbar.Colorbar at 0x7df84ec7a590>"
            ]
          },
          "metadata": {},
          "execution_count": 41
        },
        {
          "output_type": "display_data",
          "data": {
            "text/plain": [
              "<Figure size 640x480 with 2 Axes>"
            ],
            "image/png": "[encoded data removed]"
          },
          "metadata": {}
        }
      ]
    },
    {
      "cell_type": "markdown",
      "source": [
        "# Fourier Analysis of the Arithmetic mean filter and the Gaussian Filter (After Zero Padding)"
      ],
      "metadata": {
        "id": "6tICJmly9Idj"
      }
    },
    {
      "cell_type": "code",
      "source": [
        "AM_FILTER_5_padded = np.pad(AM_FILTER_5, ((10,10),(10,10)), 'constant')"
      ],
      "metadata": {
        "id": "1ui0plGh9MUT"
      },
      "execution_count": 42,
      "outputs": []
    },
    {
      "cell_type": "code",
      "source": [
        "AM_FILTER_5_padded.shape"
      ],
      "metadata": {
        "colab": {
          "base_uri": "https://localhost:8080/"
        },
        "id": "OyPgBA7M72mk",
        "outputId": "b487ff1f-84ad-4213-a15c-7cc4f8ac2070"
      },
      "execution_count": 43,
      "outputs": [
        {
          "output_type": "execute_result",
          "data": {
            "text/plain": [
              "(25, 25)"
            ]
          },
          "metadata": {},
          "execution_count": 43
        }
      ]
    },
    {
      "cell_type": "code",
      "source": [
        "gauss_filter_padded = np.pad(gaussian_filter,((10,10),(10,10)),\"constant\")"
      ],
      "metadata": {
        "id": "7zhXJMOu-LCA"
      },
      "execution_count": 44,
      "outputs": []
    },
    {
      "cell_type": "code",
      "source": [
        "gauss_filter_padded.shape"
      ],
      "metadata": {
        "colab": {
          "base_uri": "https://localhost:8080/"
        },
        "id": "NXOY4WRa-BT-",
        "outputId": "12547c93-849a-4ddb-8676-2602a50fd4f5"
      },
      "execution_count": 45,
      "outputs": [
        {
          "output_type": "execute_result",
          "data": {
            "text/plain": [
              "(25, 25)"
            ]
          },
          "metadata": {},
          "execution_count": 45
        }
      ]
    },
    {
      "cell_type": "code",
      "source": [
        "fft_am_padded = scipy.fft.fft2(AM_FILTER_5_padded)"
      ],
      "metadata": {
        "id": "fp9fSOHH-s0i"
      },
      "execution_count": 46,
      "outputs": []
    },
    {
      "cell_type": "code",
      "source": [
        "plt.imshow(np.abs(fft_am_padded))\n",
        "plt.colorbar()"
      ],
      "metadata": {
        "colab": {
          "base_uri": "https://localhost:8080/",
          "height": 452
        },
        "id": "zPbFAsYE-3IQ",
        "outputId": "36d920b6-54a8-4379-a7a9-53f6855a6140"
      },
      "execution_count": 47,
      "outputs": [
        {
          "output_type": "execute_result",
          "data": {
            "text/plain": [
              "<matplotlib.colorbar.Colorbar at 0x7df84ed72560>"
            ]
          },
          "metadata": {},
          "execution_count": 47
        },
        {
          "output_type": "display_data",
          "data": {
            "text/plain": [
              "<Figure size 640x480 with 2 Axes>"
            ],
            "image/png": "[encoded data removed]"
          },
          "metadata": {}
        }
      ]
    },
    {
      "cell_type": "code",
      "source": [
        "fft_gauss_padded = scipy.fft.fft2(gauss_filter_padded)"
      ],
      "metadata": {
        "id": "DuJl7k9_9_yy"
      },
      "execution_count": 48,
      "outputs": []
    },
    {
      "cell_type": "code",
      "source": [
        "plt.imshow(np.abs(fft_gauss_padded))\n",
        "plt.colorbar()"
      ],
      "metadata": {
        "colab": {
          "base_uri": "https://localhost:8080/",
          "height": 452
        },
        "id": "D5reLWmQ7EJD",
        "outputId": "962b1f40-0587-4a6a-c2d3-ea896940c0c5"
      },
      "execution_count": 49,
      "outputs": [
        {
          "output_type": "execute_result",
          "data": {
            "text/plain": [
              "<matplotlib.colorbar.Colorbar at 0x7df84eae95a0>"
            ]
          },
          "metadata": {},
          "execution_count": 49
        },
        {
          "output_type": "display_data",
          "data": {
            "text/plain": [
              "<Figure size 640x480 with 2 Axes>"
            ],
            "image/png": "[encoded data removed]"
          },
          "metadata": {}
        }
      ]
    },
    {
      "cell_type": "code",
      "source": [
        "from mpl_toolkits.mplot3d import Axes3D"
      ],
      "metadata": {
        "id": "YvrtAlnkAtvL"
      },
      "execution_count": 50,
      "outputs": []
    },
    {
      "cell_type": "code",
      "source": [
        "import plotly.graph_objects as go\n",
        "z = np.abs(fft_am_padded)\n",
        "sh_0, sh_1 = z.shape\n",
        "x, y = np.array(list(range(0,25))), np.array(list(range(0,25)))\n",
        "fig = go.Figure(data=[go.Surface(z=z, x=x, y=y)])\n",
        "fig.update_layout(title='AM Padded Frequency', autosize=False,\n",
        "                  width=500, height=500,\n",
        "                  margin=dict(l=65, r=50, b=65, t=90))\n",
        "fig.show()"
      ],
      "metadata": {
        "id": "i0XwsQS26Yiv",
        "colab": {
          "base_uri": "https://localhost:8080/",
          "height": 517
        },
        "outputId": "d303cbd7-3558-49b9-a208-5791f748e740"
      },
      "execution_count": 58,
      "outputs": [
        {
          "output_type": "display_data",
          "data": {
            "text/html": [
              "<html>\n",
              "<head><meta charset=\"utf-8\" /></head>\n",
              "<body>\n",
              "    <div>            <script src=\"https://cdnjs.cloudflare.com/ajax/libs/mathjax/2.7.5/MathJax.js?config=TeX-AMS-MML_SVG\"></script><script type=\"text/javascript\">if (window.MathJax && window.MathJax.Hub && window.MathJax.Hub.Config) {window.MathJax.Hub.Config({SVG: {font: \"STIX-Web\"}});}</script>                <script type=\"text/javascript\">window.PlotlyConfig = {MathJaxConfig: 'local'};</script>\n",
              "        <script charset=\"utf-8\" src=\"https://cdn.plot.ly/plotly-2.24.1.min.js\"></script>                <div id=\"cdb8bb62-2cd4-453f-82b3-bda0261c94db\" class=\"plotly-graph-div\" style=\"height:500px; width:500px;\"></div>            <script type=\"text/javascript\">                                    window.PLOTLYENV=window.PLOTLYENV || {};                                    if (document.getElementById(\"cdb8bb62-2cd4-453f-82b3-bda0261c94db\")) {                    Plotly.newPlot(                        \"cdb8bb62-2cd4-453f-82b3-bda0261c94db\",                        [{\"x\":[0,1,2,3,4,5,6,7,8,9,10,11,12,13,14,15,16,17,18,19,20,21,22,23,24],\"y\":[0,1,2,3,4,5,6,7,8,9,10,11,12,13,14,15,16,17,18,19,20,21,22,23,24],\"z\":[[1.0,0.9379559364689979,0.7648533900091441,0.5167036587802901,0.2440190013655696,6.938893903907228e-17,0.17172967271406578,0.24686312018959036,0.22528131252550498,0.12992212173376572,3.469446951953614e-17,0.11967685661326403,0.1905873839256613,0.1905873839256613,0.11967685661326403,3.469446951953614e-17,0.12992212173376572,0.22528131252550498,0.24686312018959036,0.17172967271406578,6.938893903907228e-17,0.2440190013655696,0.5167036587802901,0.7648533900091441,0.9379559364689979],[0.937955936468998,0.8797613387574349,0.7173987776875144,0.4846452641482245,0.22887907094207255,6.508376729698326e-17,0.1610748659900361,0.23154672907708604,0.21130394445882503,0.12186122535883337,3.254188364849163e-17,0.11225161811836006,0.17876256816917005,0.1787625681691701,0.11225161811836006,3.254188364849163e-17,0.12186122535883338,0.211303944458825,0.23154672907708604,0.1610748659900361,6.508376729698326e-17,0.22887907094207252,0.48464526414822445,0.7173987776875144,0.8797613387574348],[0.764853390009144,0.7173987776875143,0.5850007082084798,0.39520254504823293,0.18663876042110186,5.307236525317227e-17,0.131348022340514,0.18881409434524296,0.17230717559084197,0.09937137524525139,2.6536182626586136e-17,0.09153524948629324,0.1457714066885163,0.1457714066885163,0.09153524948629324,2.653618262658614e-17,0.09937137524525139,0.17230717559084194,0.188814094345243,0.13134802234051401,5.307236525317228e-17,0.1866387604211019,0.3952025450482328,0.5850007082084798,0.7173987776875144],[0.5167036587802899,0.48464526414822445,0.39520254504823277,0.26698267099693834,0.12608551081750238,3.5853518680371144e-17,0.0887333502124995,0.1275550774198798,0.11640367843675438,0.06713123565633497,1.7926759340185572e-17,0.061837469683397664,0.09847719859175302,0.09847719859175301,0.06183746968339767,1.7926759340185572e-17,0.06713123565633497,0.11640367843675441,0.12755507741987981,0.08873335021249952,3.5853518680371144e-17,0.1260855108175024,0.2669826709969384,0.3952025450482329,0.4846452641482244],[0.24401900136556964,0.22887907094207252,0.1866387604211019,0.1260855108175024,0.05954527302744987,1.693221961013081e-17,0.041905303240522454,0.06023929206265244,0.05497292090879852,0.03170346640076949,8.466109805065406e-18,0.029203427037339164,0.04650694309841629,0.04650694309841628,0.02920342703733915,8.466109805065403e-18,0.03170346640076947,0.054972920908798496,0.06023929206265243,0.04190530324052243,1.6932219610130805e-17,0.059545273027449844,0.1260855108175024,0.18663876042110186,0.2288790709420725],[0.0,0.0,0.0,0.0,0.0,0.0,0.0,6.938893903907228e-18,0.0,0.0,0.0,0.0,0.0,0.0,0.0,0.0,0.0,0.0,6.938893903907228e-18,0.0,0.0,0.0,0.0,0.0,0.0],[0.17172967271406578,0.1610748659900361,0.13134802234051407,0.08873335021249949,0.04190530324052244,1.1916139791156147e-17,0.029491080490480135,0.042393722835331445,0.03868748606860015,0.022311483443656594,5.9580698955780736e-18,0.020552067417644013,0.032729509064983814,0.03272950906498381,0.02055206741764402,5.958069895578073e-18,0.0223114834436566,0.03868748606860014,0.04239372283533144,0.029491080490480142,1.1916139791156146e-17,0.04190530324052244,0.0887333502124995,0.13134802234051401,0.16107486599003604],[0.24686312018959042,0.23154672907708604,0.18881409434524302,0.12755507741987984,0.06023929206265243,1.712956999783066e-17,0.04239372283533144,0.06094140010974015,0.055613647730452416,0.0320729803528492,8.56478499891533e-18,0.02954380223803257,0.04704899626466012,0.04704899626466013,0.029543802238032574,8.56478499891533e-18,0.0320729803528492,0.05561364773045241,0.06094140010974014,0.04239372283533143,1.712956999783066e-17,0.060239292062652425,0.12755507741987984,0.18881409434524304,0.23154672907708604],[0.22528131252550496,0.211303944458825,0.17230717559084197,0.11640367843675438,0.0549729209087985,1.5632031261474452e-17,0.03868748606860014,0.0556136477304524,0.05075166977321426,0.029269026110281177,7.816015630737226e-18,0.026960959336762777,0.04293577600157528,0.0429357760015753,0.026960959336762784,7.816015630737228e-18,0.02926902611028118,0.050751669773214235,0.05561364773045241,0.03868748606860013,1.5632031261474455e-17,0.05497292090879851,0.1164036784367544,0.17230717559084194,0.21130394445882503],[0.1299221217337658,0.12186122535883341,0.09937137524525146,0.067131235656335,0.03170346640076948,9.0151581848112e-18,0.022311483443656608,0.032072980352849216,0.029269026110281187,0.016879757715803443,4.5075790924056e-18,0.015548671133622922,0.024761517295309725,0.02476151729530971,0.015548671133622915,4.5075790924055995e-18,0.01687975771580344,0.02926902611028119,0.032072980352849195,0.02231148344365661,9.015158184811199e-18,0.03170346640076947,0.067131235656335,0.09937137524525147,0.12186122535883338],[2.7755575615628914e-17,1.3877787807814457e-17,1.3877787807814457e-17,7.757919228897728e-18,3.469446951953614e-18,0.0,1.734723475976807e-18,3.469446951953614e-18,3.469446951953614e-18,1.939479807224432e-18,0.0,1.734723475976807e-18,0.0,0.0,1.734723475976807e-18,0.0,1.939479807224432e-18,3.469446951953614e-18,3.469446951953614e-18,1.734723475976807e-18,0.0,3.469446951953614e-18,7.757919228897728e-18,1.3877787807814457e-17,1.3877787807814457e-17],[0.11967685661326405,0.11225161811836008,0.09153524948629327,0.061837469683397664,0.029203427037339143,8.304250107925573e-18,0.02055206741764402,0.029543802238032574,0.026960959336762794,0.015548671133622917,4.1521250539627865e-18,0.014322550008831762,0.02280889901836847,0.022808899018368474,0.014322550008831758,4.152125053962786e-18,0.015548671133622915,0.026960959336762784,0.029543802238032588,0.020552067417644017,8.304250107925571e-18,0.02920342703733916,0.06183746968339768,0.09153524948629324,0.11225161811836006],[0.19058738392566127,0.17876256816917008,0.14577140668851635,0.09847719859175304,0.046506943098416284,1.3224656364833977e-17,0.032729509064983814,0.04704899626466014,0.04293577600157531,0.02476151729530971,6.6123281824169885e-18,0.02280889901836847,0.03632355091162743,0.03632355091162742,0.022808899018368477,6.6123281824169885e-18,0.02476151729530972,0.04293577600157533,0.04704899626466015,0.03272950906498382,1.3224656364833977e-17,0.04650694309841628,0.09847719859175307,0.14577140668851632,0.17876256816917013],[0.19058738392566127,0.17876256816917013,0.14577140668851632,0.09847719859175307,0.04650694309841628,1.3224656364833977e-17,0.03272950906498382,0.04704899626466015,0.04293577600157533,0.02476151729530972,6.6123281824169885e-18,0.022808899018368477,0.03632355091162742,0.03632355091162743,0.02280889901836847,6.6123281824169885e-18,0.02476151729530971,0.04293577600157531,0.04704899626466014,0.032729509064983814,1.3224656364833977e-17,0.046506943098416284,0.09847719859175304,0.14577140668851635,0.17876256816917008],[0.11967685661326405,0.11225161811836006,0.09153524948629324,0.06183746968339768,0.02920342703733916,8.304250107925571e-18,0.020552067417644017,0.029543802238032588,0.026960959336762784,0.015548671133622915,4.152125053962786e-18,0.014322550008831758,0.022808899018368474,0.02280889901836847,0.014322550008831762,4.1521250539627865e-18,0.015548671133622917,0.026960959336762794,0.029543802238032574,0.02055206741764402,8.304250107925573e-18,0.029203427037339143,0.061837469683397664,0.09153524948629327,0.11225161811836008],[2.7755575615628914e-17,1.3877787807814457e-17,1.3877787807814457e-17,7.757919228897728e-18,3.469446951953614e-18,0.0,1.734723475976807e-18,3.469446951953614e-18,3.469446951953614e-18,1.939479807224432e-18,0.0,1.734723475976807e-18,0.0,0.0,1.734723475976807e-18,0.0,1.939479807224432e-18,3.469446951953614e-18,3.469446951953614e-18,1.734723475976807e-18,0.0,3.469446951953614e-18,7.757919228897728e-18,1.3877787807814457e-17,1.3877787807814457e-17],[0.1299221217337658,0.12186122535883338,0.09937137524525147,0.067131235656335,0.03170346640076947,9.015158184811199e-18,0.02231148344365661,0.032072980352849195,0.02926902611028119,0.01687975771580344,4.5075790924055995e-18,0.015548671133622915,0.02476151729530971,0.024761517295309725,0.015548671133622922,4.5075790924056e-18,0.016879757715803443,0.029269026110281187,0.032072980352849216,0.022311483443656608,9.0151581848112e-18,0.03170346640076948,0.067131235656335,0.09937137524525146,0.12186122535883341],[0.22528131252550496,0.21130394445882503,0.17230717559084194,0.1164036784367544,0.05497292090879851,1.5632031261474455e-17,0.03868748606860013,0.05561364773045241,0.050751669773214235,0.02926902611028118,7.816015630737228e-18,0.026960959336762784,0.0429357760015753,0.04293577600157528,0.026960959336762777,7.816015630737226e-18,0.029269026110281177,0.05075166977321426,0.0556136477304524,0.03868748606860014,1.5632031261474452e-17,0.0549729209087985,0.11640367843675438,0.17230717559084197,0.211303944458825],[0.24686312018959042,0.23154672907708604,0.18881409434524304,0.12755507741987984,0.060239292062652425,1.712956999783066e-17,0.04239372283533143,0.06094140010974014,0.05561364773045241,0.0320729803528492,8.56478499891533e-18,0.029543802238032574,0.04704899626466013,0.04704899626466012,0.02954380223803257,8.56478499891533e-18,0.0320729803528492,0.055613647730452416,0.06094140010974015,0.04239372283533144,1.712956999783066e-17,0.06023929206265243,0.12755507741987984,0.18881409434524302,0.23154672907708604],[0.17172967271406578,0.16107486599003604,0.13134802234051401,0.0887333502124995,0.04190530324052244,1.1916139791156146e-17,0.029491080490480142,0.04239372283533144,0.03868748606860014,0.0223114834436566,5.958069895578073e-18,0.02055206741764402,0.03272950906498381,0.032729509064983814,0.020552067417644013,5.9580698955780736e-18,0.022311483443656594,0.03868748606860015,0.042393722835331445,0.029491080490480135,1.1916139791156147e-17,0.04190530324052244,0.08873335021249949,0.13134802234051407,0.1610748659900361],[0.0,0.0,0.0,0.0,0.0,0.0,0.0,6.938893903907228e-18,0.0,0.0,0.0,0.0,0.0,0.0,0.0,0.0,0.0,0.0,6.938893903907228e-18,0.0,0.0,0.0,0.0,0.0,0.0],[0.24401900136556964,0.2288790709420725,0.18663876042110186,0.1260855108175024,0.059545273027449844,1.6932219610130805e-17,0.04190530324052243,0.06023929206265243,0.054972920908798496,0.03170346640076947,8.466109805065403e-18,0.02920342703733915,0.04650694309841628,0.04650694309841629,0.029203427037339164,8.466109805065406e-18,0.03170346640076949,0.05497292090879852,0.06023929206265244,0.041905303240522454,1.693221961013081e-17,0.05954527302744987,0.1260855108175024,0.1866387604211019,0.22887907094207252],[0.5167036587802899,0.4846452641482244,0.3952025450482329,0.2669826709969384,0.1260855108175024,3.5853518680371144e-17,0.08873335021249952,0.12755507741987981,0.11640367843675441,0.06713123565633497,1.7926759340185572e-17,0.06183746968339767,0.09847719859175301,0.09847719859175302,0.061837469683397664,1.7926759340185572e-17,0.06713123565633497,0.11640367843675438,0.1275550774198798,0.0887333502124995,3.5853518680371144e-17,0.12608551081750238,0.26698267099693834,0.39520254504823277,0.48464526414822445],[0.764853390009144,0.7173987776875144,0.5850007082084798,0.3952025450482328,0.1866387604211019,5.307236525317228e-17,0.13134802234051401,0.188814094345243,0.17230717559084194,0.09937137524525139,2.653618262658614e-17,0.09153524948629324,0.1457714066885163,0.1457714066885163,0.09153524948629324,2.6536182626586136e-17,0.09937137524525139,0.17230717559084197,0.18881409434524296,0.131348022340514,5.307236525317227e-17,0.18663876042110186,0.39520254504823293,0.5850007082084798,0.7173987776875143],[0.937955936468998,0.8797613387574348,0.7173987776875144,0.48464526414822445,0.22887907094207252,6.508376729698326e-17,0.1610748659900361,0.23154672907708604,0.211303944458825,0.12186122535883338,3.254188364849163e-17,0.11225161811836006,0.1787625681691701,0.17876256816917005,0.11225161811836006,3.254188364849163e-17,0.12186122535883337,0.21130394445882503,0.23154672907708604,0.1610748659900361,6.508376729698326e-17,0.22887907094207255,0.4846452641482245,0.7173987776875144,0.8797613387574349]],\"type\":\"surface\"}],                        {\"template\":{\"data\":{\"histogram2dcontour\":[{\"type\":\"histogram2dcontour\",\"colorbar\":{\"outlinewidth\":0,\"ticks\":\"\"},\"colorscale\":[[0.0,\"#0d0887\"],[0.1111111111111111,\"#46039f\"],[0.2222222222222222,\"#7201a8\"],[0.3333333333333333,\"#9c179e\"],[0.4444444444444444,\"#bd3786\"],[0.5555555555555556,\"#d8576b\"],[0.6666666666666666,\"#ed7953\"],[0.7777777777777778,\"#fb9f3a\"],[0.8888888888888888,\"#fdca26\"],[1.0,\"#f0f921\"]]}],\"choropleth\":[{\"type\":\"choropleth\",\"colorbar\":{\"outlinewidth\":0,\"ticks\":\"\"}}],\"histogram2d\":[{\"type\":\"histogram2d\",\"colorbar\":{\"outlinewidth\":0,\"ticks\":\"\"},\"colorscale\":[[0.0,\"#0d0887\"],[0.1111111111111111,\"#46039f\"],[0.2222222222222222,\"#7201a8\"],[0.3333333333333333,\"#9c179e\"],[0.4444444444444444,\"#bd3786\"],[0.5555555555555556,\"#d8576b\"],[0.6666666666666666,\"#ed7953\"],[0.7777777777777778,\"#fb9f3a\"],[0.8888888888888888,\"#fdca26\"],[1.0,\"#f0f921\"]]}],\"heatmap\":[{\"type\":\"heatmap\",\"colorbar\":{\"outlinewidth\":0,\"ticks\":\"\"},\"colorscale\":[[0.0,\"#0d0887\"],[0.1111111111111111,\"#46039f\"],[0.2222222222222222,\"#7201a8\"],[0.3333333333333333,\"#9c179e\"],[0.4444444444444444,\"#bd3786\"],[0.5555555555555556,\"#d8576b\"],[0.6666666666666666,\"#ed7953\"],[0.7777777777777778,\"#fb9f3a\"],[0.8888888888888888,\"#fdca26\"],[1.0,\"#f0f921\"]]}],\"heatmapgl\":[{\"type\":\"heatmapgl\",\"colorbar\":{\"outlinewidth\":0,\"ticks\":\"\"},\"colorscale\":[[0.0,\"#0d0887\"],[0.1111111111111111,\"#46039f\"],[0.2222222222222222,\"#7201a8\"],[0.3333333333333333,\"#9c179e\"],[0.4444444444444444,\"#bd3786\"],[0.5555555555555556,\"#d8576b\"],[0.6666666666666666,\"#ed7953\"],[0.7777777777777778,\"#fb9f3a\"],[0.8888888888888888,\"#fdca26\"],[1.0,\"#f0f921\"]]}],\"contourcarpet\":[{\"type\":\"contourcarpet\",\"colorbar\":{\"outlinewidth\":0,\"ticks\":\"\"}}],\"contour\":[{\"type\":\"contour\",\"colorbar\":{\"outlinewidth\":0,\"ticks\":\"\"},\"colorscale\":[[0.0,\"#0d0887\"],[0.1111111111111111,\"#46039f\"],[0.2222222222222222,\"#7201a8\"],[0.3333333333333333,\"#9c179e\"],[0.4444444444444444,\"#bd3786\"],[0.5555555555555556,\"#d8576b\"],[0.6666666666666666,\"#ed7953\"],[0.7777777777777778,\"#fb9f3a\"],[0.8888888888888888,\"#fdca26\"],[1.0,\"#f0f921\"]]}],\"surface\":[{\"type\":\"surface\",\"colorbar\":{\"outlinewidth\":0,\"ticks\":\"\"},\"colorscale\":[[0.0,\"#0d0887\"],[0.1111111111111111,\"#46039f\"],[0.2222222222222222,\"#7201a8\"],[0.3333333333333333,\"#9c179e\"],[0.4444444444444444,\"#bd3786\"],[0.5555555555555556,\"#d8576b\"],[0.6666666666666666,\"#ed7953\"],[0.7777777777777778,\"#fb9f3a\"],[0.8888888888888888,\"#fdca26\"],[1.0,\"#f0f921\"]]}],\"mesh3d\":[{\"type\":\"mesh3d\",\"colorbar\":{\"outlinewidth\":0,\"ticks\":\"\"}}],\"scatter\":[{\"fillpattern\":{\"fillmode\":\"overlay\",\"size\":10,\"solidity\":0.2},\"type\":\"scatter\"}],\"parcoords\":[{\"type\":\"parcoords\",\"line\":{\"colorbar\":{\"outlinewidth\":0,\"ticks\":\"\"}}}],\"scatterpolargl\":[{\"type\":\"scatterpolargl\",\"marker\":{\"colorbar\":{\"outlinewidth\":0,\"ticks\":\"\"}}}],\"bar\":[{\"error_x\":{\"color\":\"#2a3f5f\"},\"error_y\":{\"color\":\"#2a3f5f\"},\"marker\":{\"line\":{\"color\":\"#E5ECF6\",\"width\":0.5},\"pattern\":{\"fillmode\":\"overlay\",\"size\":10,\"solidity\":0.2}},\"type\":\"bar\"}],\"scattergeo\":[{\"type\":\"scattergeo\",\"marker\":{\"colorbar\":{\"outlinewidth\":0,\"ticks\":\"\"}}}],\"scatterpolar\":[{\"type\":\"scatterpolar\",\"marker\":{\"colorbar\":{\"outlinewidth\":0,\"ticks\":\"\"}}}],\"histogram\":[{\"marker\":{\"pattern\":{\"fillmode\":\"overlay\",\"size\":10,\"solidity\":0.2}},\"type\":\"histogram\"}],\"scattergl\":[{\"type\":\"scattergl\",\"marker\":{\"colorbar\":{\"outlinewidth\":0,\"ticks\":\"\"}}}],\"scatter3d\":[{\"type\":\"scatter3d\",\"line\":{\"colorbar\":{\"outlinewidth\":0,\"ticks\":\"\"}},\"marker\":{\"colorbar\":{\"outlinewidth\":0,\"ticks\":\"\"}}}],\"scattermapbox\":[{\"type\":\"scattermapbox\",\"marker\":{\"colorbar\":{\"outlinewidth\":0,\"ticks\":\"\"}}}],\"scatterternary\":[{\"type\":\"scatterternary\",\"marker\":{\"colorbar\":{\"outlinewidth\":0,\"ticks\":\"\"}}}],\"scattercarpet\":[{\"type\":\"scattercarpet\",\"marker\":{\"colorbar\":{\"outlinewidth\":0,\"ticks\":\"\"}}}],\"carpet\":[{\"aaxis\":{\"endlinecolor\":\"#2a3f5f\",\"gridcolor\":\"white\",\"linecolor\":\"white\",\"minorgridcolor\":\"white\",\"startlinecolor\":\"#2a3f5f\"},\"baxis\":{\"endlinecolor\":\"#2a3f5f\",\"gridcolor\":\"white\",\"linecolor\":\"white\",\"minorgridcolor\":\"white\",\"startlinecolor\":\"#2a3f5f\"},\"type\":\"carpet\"}],\"table\":[{\"cells\":{\"fill\":{\"color\":\"#EBF0F8\"},\"line\":{\"color\":\"white\"}},\"header\":{\"fill\":{\"color\":\"#C8D4E3\"},\"line\":{\"color\":\"white\"}},\"type\":\"table\"}],\"barpolar\":[{\"marker\":{\"line\":{\"color\":\"#E5ECF6\",\"width\":0.5},\"pattern\":{\"fillmode\":\"overlay\",\"size\":10,\"solidity\":0.2}},\"type\":\"barpolar\"}],\"pie\":[{\"automargin\":true,\"type\":\"pie\"}]},\"layout\":{\"autotypenumbers\":\"strict\",\"colorway\":[\"#636efa\",\"#EF553B\",\"#00cc96\",\"#ab63fa\",\"#FFA15A\",\"#19d3f3\",\"#FF6692\",\"#B6E880\",\"#FF97FF\",\"#FECB52\"],\"font\":{\"color\":\"#2a3f5f\"},\"hovermode\":\"closest\",\"hoverlabel\":{\"align\":\"left\"},\"paper_bgcolor\":\"white\",\"plot_bgcolor\":\"#E5ECF6\",\"polar\":{\"bgcolor\":\"#E5ECF6\",\"angularaxis\":{\"gridcolor\":\"white\",\"linecolor\":\"white\",\"ticks\":\"\"},\"radialaxis\":{\"gridcolor\":\"white\",\"linecolor\":\"white\",\"ticks\":\"\"}},\"ternary\":{\"bgcolor\":\"#E5ECF6\",\"aaxis\":{\"gridcolor\":\"white\",\"linecolor\":\"white\",\"ticks\":\"\"},\"baxis\":{\"gridcolor\":\"white\",\"linecolor\":\"white\",\"ticks\":\"\"},\"caxis\":{\"gridcolor\":\"white\",\"linecolor\":\"white\",\"ticks\":\"\"}},\"coloraxis\":{\"colorbar\":{\"outlinewidth\":0,\"ticks\":\"\"}},\"colorscale\":{\"sequential\":[[0.0,\"#0d0887\"],[0.1111111111111111,\"#46039f\"],[0.2222222222222222,\"#7201a8\"],[0.3333333333333333,\"#9c179e\"],[0.4444444444444444,\"#bd3786\"],[0.5555555555555556,\"#d8576b\"],[0.6666666666666666,\"#ed7953\"],[0.7777777777777778,\"#fb9f3a\"],[0.8888888888888888,\"#fdca26\"],[1.0,\"#f0f921\"]],\"sequentialminus\":[[0.0,\"#0d0887\"],[0.1111111111111111,\"#46039f\"],[0.2222222222222222,\"#7201a8\"],[0.3333333333333333,\"#9c179e\"],[0.4444444444444444,\"#bd3786\"],[0.5555555555555556,\"#d8576b\"],[0.6666666666666666,\"#ed7953\"],[0.7777777777777778,\"#fb9f3a\"],[0.8888888888888888,\"#fdca26\"],[1.0,\"#f0f921\"]],\"diverging\":[[0,\"#8e0152\"],[0.1,\"#c51b7d\"],[0.2,\"#de77ae\"],[0.3,\"#f1b6da\"],[0.4,\"#fde0ef\"],[0.5,\"#f7f7f7\"],[0.6,\"#e6f5d0\"],[0.7,\"#b8e186\"],[0.8,\"#7fbc41\"],[0.9,\"#4d9221\"],[1,\"#276419\"]]},\"xaxis\":{\"gridcolor\":\"white\",\"linecolor\":\"white\",\"ticks\":\"\",\"title\":{\"standoff\":15},\"zerolinecolor\":\"white\",\"automargin\":true,\"zerolinewidth\":2},\"yaxis\":{\"gridcolor\":\"white\",\"linecolor\":\"white\",\"ticks\":\"\",\"title\":{\"standoff\":15},\"zerolinecolor\":\"white\",\"automargin\":true,\"zerolinewidth\":2},\"scene\":{\"xaxis\":{\"backgroundcolor\":\"#E5ECF6\",\"gridcolor\":\"white\",\"linecolor\":\"white\",\"showbackground\":true,\"ticks\":\"\",\"zerolinecolor\":\"white\",\"gridwidth\":2},\"yaxis\":{\"backgroundcolor\":\"#E5ECF6\",\"gridcolor\":\"white\",\"linecolor\":\"white\",\"showbackground\":true,\"ticks\":\"\",\"zerolinecolor\":\"white\",\"gridwidth\":2},\"zaxis\":{\"backgroundcolor\":\"#E5ECF6\",\"gridcolor\":\"white\",\"linecolor\":\"white\",\"showbackground\":true,\"ticks\":\"\",\"zerolinecolor\":\"white\",\"gridwidth\":2}},\"shapedefaults\":{\"line\":{\"color\":\"#2a3f5f\"}},\"annotationdefaults\":{\"arrowcolor\":\"#2a3f5f\",\"arrowhead\":0,\"arrowwidth\":1},\"geo\":{\"bgcolor\":\"white\",\"landcolor\":\"#E5ECF6\",\"subunitcolor\":\"white\",\"showland\":true,\"showlakes\":true,\"lakecolor\":\"white\"},\"title\":{\"x\":0.05},\"mapbox\":{\"style\":\"light\"}}},\"margin\":{\"l\":65,\"r\":50,\"b\":65,\"t\":90},\"title\":{\"text\":\"AM Padded Frequency\"},\"autosize\":false,\"width\":500,\"height\":500},                        {\"responsive\": true}                    ).then(function(){\n",
              "                            \n",
              "var gd = document.getElementById('cdb8bb62-2cd4-453f-82b3-bda0261c94db');\n",
              "var x = new MutationObserver(function (mutations, observer) {{\n",
              "        var display = window.getComputedStyle(gd).display;\n",
              "        if (!display || display === 'none') {{\n",
              "            console.log([gd, 'removed!']);\n",
              "            Plotly.purge(gd);\n",
              "            observer.disconnect();\n",
              "        }}\n",
              "}});\n",
              "\n",
              "// Listen for the removal of the full notebook cells\n",
              "var notebookContainer = gd.closest('#notebook-container');\n",
              "if (notebookContainer) {{\n",
              "    x.observe(notebookContainer, {childList: true});\n",
              "}}\n",
              "\n",
              "// Listen for the clearing of the current output cell\n",
              "var outputEl = gd.closest('.output');\n",
              "if (outputEl) {{\n",
              "    x.observe(outputEl, {childList: true});\n",
              "}}\n",
              "\n",
              "                        })                };                            </script>        </div>\n",
              "</body>\n",
              "</html>"
            ]
          },
          "metadata": {}
        }
      ]
    },
    {
      "cell_type": "code",
      "source": [
        "z = np.abs(fft_gauss_padded)\n",
        "sh_0, sh_1 = z.shape\n",
        "x, y = np.array(list(range(0,25))), np.array(list(range(0,25)))\n",
        "fig = go.Figure(data=[go.Surface(z=z, x=x, y=y)])\n",
        "fig.update_layout(title='Gauss Padded Frequency', autosize=False,\n",
        "                  width=500, height=500,\n",
        "                  margin=dict(l=65, r=50, b=65, t=90))\n",
        "fig.show()"
      ],
      "metadata": {
        "colab": {
          "base_uri": "https://localhost:8080/",
          "height": 517
        },
        "id": "1izGjFQo78DS",
        "outputId": "0fa5614e-2089-4fc2-ace4-fa99e2b5da0f"
      },
      "execution_count": 59,
      "outputs": [
        {
          "output_type": "display_data",
          "data": {
            "text/html": [
              "<html>\n",
              "<head><meta charset=\"utf-8\" /></head>\n",
              "<body>\n",
              "    <div>            <script src=\"https://cdnjs.cloudflare.com/ajax/libs/mathjax/2.7.5/MathJax.js?config=TeX-AMS-MML_SVG\"></script><script type=\"text/javascript\">if (window.MathJax && window.MathJax.Hub && window.MathJax.Hub.Config) {window.MathJax.Hub.Config({SVG: {font: \"STIX-Web\"}});}</script>                <script type=\"text/javascript\">window.PlotlyConfig = {MathJaxConfig: 'local'};</script>\n",
              "        <script charset=\"utf-8\" src=\"https://cdn.plot.ly/plotly-2.24.1.min.js\"></script>                <div id=\"86eea29d-6c46-43b8-9d45-c064a799867c\" class=\"plotly-graph-div\" style=\"height:500px; width:500px;\"></div>            <script type=\"text/javascript\">                                    window.PLOTLYENV=window.PLOTLYENV || {};                                    if (document.getElementById(\"86eea29d-6c46-43b8-9d45-c064a799867c\")) {                    Plotly.newPlot(                        \"86eea29d-6c46-43b8-9d45-c064a799867c\",                        [{\"x\":[0,1,2,3,4,5,6,7,8,9,10,11,12,13,14,15,16,17,18,19,20,21,22,23,24],\"y\":[0,1,2,3,4,5,6,7,8,9,10,11,12,13,14,15,16,17,18,19,20,21,22,23,24],\"z\":[[1.0,0.9694044116867058,0.8823831237914866,0.7522298039693149,0.5979950220659893,0.44059950713825946,0.29874157045119826,0.1855430987343729,0.10668394821228921,0.06039951889105616,0.03925397271522034,0.033166436612010276,0.032866984999495884,0.032866984999495884,0.033166436612010276,0.03925397271522034,0.06039951889105616,0.10668394821228921,0.1855430987343729,0.29874157045119826,0.44059950713825946,0.5979950220659893,0.7522298039693149,0.8823831237914866,0.9694044116867058],[0.9694044116867058,0.9397198965815684,0.8552911771364113,0.7290194384195182,0.5793923929157584,0.42671181121482676,0.28912133486755615,0.1793512495334569,0.1029080273095349,0.05807239672990805,0.03762094538964923,0.03176390380086698,0.03150003249673611,0.03150003249673611,0.03176390380086699,0.037620945389649225,0.05807239672990804,0.1029080273095349,0.17935124953345694,0.28912133486755615,0.42671181121482676,0.5793923929157585,0.7290194384195183,0.8552911771364115,0.9397198965815683],[0.8823831237914868,0.8552911771364113,0.7782399231990559,0.6630136906169144,0.5264985135214971,0.38723484170059375,0.2617879372856126,0.16177373796693226,0.09220533044214804,0.051492431026548574,0.03301611006654621,0.027814968355696888,0.027652345100715892,0.027652345100715892,0.027814968355696888,0.033016110066546214,0.05149243102654857,0.09220533044214804,0.16177373796693226,0.26178793728561267,0.3872348417005937,0.5264985135214971,0.6630136906169144,0.7782399231990559,0.8552911771364115],[0.7522298039693148,0.7290194384195182,0.6630136906169142,0.5643247370832241,0.44744058676648246,0.32826464835924957,0.22099904186210528,0.1355913085064709,0.07631584072560123,0.04177547472490451,0.02625630954001043,0.022037177994824374,0.022026142835624245,0.022026142835624245,0.022037177994824374,0.026256309540010427,0.04177547472490451,0.07631584072560123,0.1355913085064709,0.22099904186210534,0.32826464835924957,0.44744058676648246,0.5643247370832243,0.6630136906169143,0.7290194384195182],[0.5979950220659893,0.5793923929157584,0.5264985135214971,0.44744058676648246,0.3538599805972389,0.25852973236741095,0.17284672995225797,0.10477799919930504,0.05772104542863491,0.03050795306256756,0.018499160051946146,0.01544575037688071,0.015614661988783855,0.015614661988783854,0.015445750376880703,0.018499160051946146,0.03050795306256756,0.05772104542863489,0.10477799919930504,0.17284672995225794,0.25852973236741095,0.3538599805972389,0.44744058676648246,0.526498513521497,0.5793923929157584],[0.44059950713825946,0.4267118112148267,0.38723484170059375,0.32826464835924957,0.25852973236741095,0.187599933118123,0.12400164395101977,0.07367529956778793,0.03912111780773409,0.019405764662385205,0.010989010989010985,0.009128443156884953,0.009481487917162178,0.009481487917162176,0.009128443156884953,0.010989010989010986,0.0194057646623852,0.03912111780773409,0.07367529956778794,0.12400164395101976,0.187599933118123,0.2585297323674109,0.32826464835924957,0.38723484170059375,0.42671181121482665],[0.2987415704511981,0.2891213348675561,0.2617879372856126,0.22099904186210523,0.17284672995225794,0.12400164395101973,0.08039210825470554,0.04612430097560216,0.022886309949596485,0.009957119666672011,0.004791501199952631,0.004010568011951444,0.004530270680226397,0.004530270680226396,0.004010568011951447,0.004791501199952631,0.009957119666672011,0.022886309949596496,0.04612430097560217,0.08039210825470555,0.12400164395101974,0.17284672995225794,0.2209990418621053,0.26178793728561267,0.2891213348675561],[0.1855430987343728,0.17935124953345694,0.16177373796693212,0.13559130850647086,0.10477799919930504,0.07367529956778794,0.04612430097560216,0.024757579014376314,0.010610773641626584,0.0031334414888328694,0.0005797155257106054,0.0006661377241729988,0.0013197297919639787,0.001319729791963982,0.000666137724173,0.0005797155257106087,0.003133441488832866,0.010610773641626573,0.024757579014376332,0.04612430097560216,0.07367529956778794,0.10477799919930506,0.1355913085064709,0.16177373796693223,0.17935124953345696],[0.10668394821228913,0.10290802730953495,0.09220533044214801,0.07631584072560121,0.057721045428634876,0.03912111780773411,0.02288630994959651,0.010610773641626594,0.002870379399840823,0.0007651167217199862,0.001478284385173901,0.0007806509086367123,3.2709151807053596e-05,3.270915180705595e-05,0.0007806509086367139,0.001478284385173902,0.0007651167217199852,0.00287037939984083,0.010610773641626587,0.022886309949596503,0.03912111780773411,0.05772104542863492,0.07631584072560124,0.09220533044214795,0.10290802730953488],[0.06039951889105596,0.05807239672990802,0.0514924310265485,0.041775474724904504,0.030507953062567518,0.01940576466238518,0.00995711966667204,0.0031334414888329024,0.0007651167217199844,0.0020967169819081873,0.00170612732340786,0.0006419589082286147,0.00016256305044485563,0.00016256305044485262,0.0006419589082286157,0.0017061273234078597,0.002096716981908181,0.0007651167217199886,0.00313344148883289,0.009957119666672022,0.0194057646623852,0.03050795306256758,0.04177547472490447,0.051492431026548546,0.05807239672990802],[0.039253972715220214,0.03762094538964926,0.03301611006654619,0.026256309540010396,0.018499160051946146,0.010989010989010997,0.004791501199952669,0.0005797155257106313,0.0014782843851739065,0.0017061273234078723,0.0007867463049362047,0.0004530227652297545,0.0012846513362765604,0.0012846513362765604,0.00045302276522975524,0.0007867463049362035,0.0017061273234078745,0.0014782843851739093,0.0005797155257106233,0.0047915011999526665,0.010989010989011004,0.018499160051946132,0.02625630954001043,0.0330161100665462,0.03762094538964925],[0.033166436612010144,0.03176390380086697,0.027814968355696905,0.02203717799482432,0.015445750376880722,0.009128443156884923,0.004010568011951449,0.0006661377241730111,0.0007806509086367237,0.0006419589082286312,0.00045302276522975323,0.0017511051747691759,0.0025917352901821448,0.0025917352901821482,0.0017511051747691742,0.00045302276522975383,0.0006419589082286406,0.0007806509086367232,0.0006661377241730258,0.0040105680119514615,0.00912844315688497,0.015445750376880662,0.022037177994824384,0.02781496835569682,0.031763903800866994],[0.032866984999495766,0.03150003249673617,0.027652345100715823,0.02202614283562424,0.015614661988783833,0.00948148791716219,0.004530270680226405,0.001319729791963991,3.270915180706311e-05,0.00016256305044483842,0.0012846513362765562,0.0025917352901821443,0.0034337549298762977,0.0034337549298763003,0.0025917352901821443,0.0012846513362765567,0.00016256305044483506,3.27091518070699e-05,0.0013197297919639956,0.004530270680226428,0.009481487917162187,0.01561466198878386,0.022026142835624284,0.027652345100715993,0.03150003249673626],[0.032866984999495766,0.03150003249673626,0.027652345100715993,0.022026142835624284,0.01561466198878386,0.009481487917162187,0.004530270680226428,0.0013197297919639956,3.27091518070699e-05,0.00016256305044483506,0.0012846513362765567,0.0025917352901821443,0.0034337549298763003,0.0034337549298762977,0.0025917352901821443,0.0012846513362765562,0.00016256305044483842,3.270915180706311e-05,0.001319729791963991,0.004530270680226405,0.00948148791716219,0.015614661988783833,0.02202614283562424,0.027652345100715823,0.03150003249673617],[0.033166436612010144,0.031763903800866994,0.02781496835569682,0.022037177994824384,0.015445750376880662,0.00912844315688497,0.0040105680119514615,0.0006661377241730258,0.0007806509086367232,0.0006419589082286406,0.00045302276522975383,0.0017511051747691742,0.0025917352901821482,0.0025917352901821448,0.0017511051747691759,0.00045302276522975323,0.0006419589082286312,0.0007806509086367237,0.0006661377241730111,0.004010568011951449,0.009128443156884923,0.015445750376880722,0.02203717799482432,0.027814968355696905,0.03176390380086697],[0.039253972715220214,0.03762094538964925,0.0330161100665462,0.02625630954001043,0.018499160051946132,0.010989010989011004,0.0047915011999526665,0.0005797155257106233,0.0014782843851739093,0.0017061273234078745,0.0007867463049362035,0.00045302276522975524,0.0012846513362765604,0.0012846513362765604,0.0004530227652297545,0.0007867463049362047,0.0017061273234078723,0.0014782843851739065,0.0005797155257106313,0.004791501199952669,0.010989010989010997,0.018499160051946146,0.026256309540010396,0.03301611006654619,0.03762094538964926],[0.06039951889105596,0.05807239672990802,0.051492431026548546,0.04177547472490447,0.03050795306256758,0.0194057646623852,0.009957119666672022,0.00313344148883289,0.0007651167217199886,0.002096716981908181,0.0017061273234078597,0.0006419589082286157,0.00016256305044485262,0.00016256305044485563,0.0006419589082286147,0.00170612732340786,0.0020967169819081873,0.0007651167217199844,0.0031334414888329024,0.00995711966667204,0.01940576466238518,0.030507953062567518,0.041775474724904504,0.0514924310265485,0.05807239672990802],[0.10668394821228913,0.10290802730953488,0.09220533044214795,0.07631584072560124,0.05772104542863492,0.03912111780773411,0.022886309949596503,0.010610773641626587,0.00287037939984083,0.0007651167217199852,0.001478284385173902,0.0007806509086367139,3.270915180705595e-05,3.2709151807053596e-05,0.0007806509086367123,0.001478284385173901,0.0007651167217199862,0.002870379399840823,0.010610773641626594,0.02288630994959651,0.03912111780773411,0.057721045428634876,0.07631584072560121,0.09220533044214801,0.10290802730953495],[0.1855430987343728,0.17935124953345696,0.16177373796693223,0.1355913085064709,0.10477799919930506,0.07367529956778794,0.04612430097560216,0.024757579014376332,0.010610773641626573,0.003133441488832866,0.0005797155257106087,0.000666137724173,0.001319729791963982,0.0013197297919639787,0.0006661377241729988,0.0005797155257106054,0.0031334414888328694,0.010610773641626584,0.024757579014376314,0.04612430097560216,0.07367529956778794,0.10477799919930504,0.13559130850647086,0.16177373796693212,0.17935124953345694],[0.2987415704511981,0.2891213348675561,0.26178793728561267,0.2209990418621053,0.17284672995225794,0.12400164395101974,0.08039210825470555,0.04612430097560217,0.022886309949596496,0.009957119666672011,0.004791501199952631,0.004010568011951447,0.004530270680226396,0.004530270680226397,0.004010568011951444,0.004791501199952631,0.009957119666672011,0.022886309949596485,0.04612430097560216,0.08039210825470554,0.12400164395101973,0.17284672995225794,0.22099904186210523,0.2617879372856126,0.2891213348675561],[0.44059950713825946,0.42671181121482665,0.38723484170059375,0.32826464835924957,0.2585297323674109,0.187599933118123,0.12400164395101976,0.07367529956778794,0.03912111780773409,0.0194057646623852,0.010989010989010986,0.009128443156884953,0.009481487917162176,0.009481487917162178,0.009128443156884953,0.010989010989010985,0.019405764662385205,0.03912111780773409,0.07367529956778793,0.12400164395101977,0.187599933118123,0.25852973236741095,0.32826464835924957,0.38723484170059375,0.4267118112148267],[0.5979950220659893,0.5793923929157584,0.526498513521497,0.44744058676648246,0.3538599805972389,0.25852973236741095,0.17284672995225794,0.10477799919930504,0.05772104542863489,0.03050795306256756,0.018499160051946146,0.015445750376880703,0.015614661988783854,0.015614661988783855,0.01544575037688071,0.018499160051946146,0.03050795306256756,0.05772104542863491,0.10477799919930504,0.17284672995225797,0.25852973236741095,0.3538599805972389,0.44744058676648246,0.5264985135214971,0.5793923929157584],[0.7522298039693148,0.7290194384195182,0.6630136906169143,0.5643247370832243,0.44744058676648246,0.32826464835924957,0.22099904186210534,0.1355913085064709,0.07631584072560123,0.04177547472490451,0.026256309540010427,0.022037177994824374,0.022026142835624245,0.022026142835624245,0.022037177994824374,0.02625630954001043,0.04177547472490451,0.07631584072560123,0.1355913085064709,0.22099904186210528,0.32826464835924957,0.44744058676648246,0.5643247370832241,0.6630136906169142,0.7290194384195182],[0.8823831237914868,0.8552911771364115,0.7782399231990559,0.6630136906169144,0.5264985135214971,0.3872348417005937,0.26178793728561267,0.16177373796693226,0.09220533044214804,0.05149243102654857,0.033016110066546214,0.027814968355696888,0.027652345100715892,0.027652345100715892,0.027814968355696888,0.03301611006654621,0.051492431026548574,0.09220533044214804,0.16177373796693226,0.2617879372856126,0.38723484170059375,0.5264985135214971,0.6630136906169144,0.7782399231990559,0.8552911771364113],[0.9694044116867058,0.9397198965815683,0.8552911771364115,0.7290194384195183,0.5793923929157585,0.42671181121482676,0.28912133486755615,0.17935124953345694,0.1029080273095349,0.05807239672990804,0.037620945389649225,0.03176390380086699,0.03150003249673611,0.03150003249673611,0.03176390380086698,0.03762094538964923,0.05807239672990805,0.1029080273095349,0.1793512495334569,0.28912133486755615,0.42671181121482676,0.5793923929157584,0.7290194384195182,0.8552911771364113,0.9397198965815684]],\"type\":\"surface\"}],                        {\"template\":{\"data\":{\"histogram2dcontour\":[{\"type\":\"histogram2dcontour\",\"colorbar\":{\"outlinewidth\":0,\"ticks\":\"\"},\"colorscale\":[[0.0,\"#0d0887\"],[0.1111111111111111,\"#46039f\"],[0.2222222222222222,\"#7201a8\"],[0.3333333333333333,\"#9c179e\"],[0.4444444444444444,\"#bd3786\"],[0.5555555555555556,\"#d8576b\"],[0.6666666666666666,\"#ed7953\"],[0.7777777777777778,\"#fb9f3a\"],[0.8888888888888888,\"#fdca26\"],[1.0,\"#f0f921\"]]}],\"choropleth\":[{\"type\":\"choropleth\",\"colorbar\":{\"outlinewidth\":0,\"ticks\":\"\"}}],\"histogram2d\":[{\"type\":\"histogram2d\",\"colorbar\":{\"outlinewidth\":0,\"ticks\":\"\"},\"colorscale\":[[0.0,\"#0d0887\"],[0.1111111111111111,\"#46039f\"],[0.2222222222222222,\"#7201a8\"],[0.3333333333333333,\"#9c179e\"],[0.4444444444444444,\"#bd3786\"],[0.5555555555555556,\"#d8576b\"],[0.6666666666666666,\"#ed7953\"],[0.7777777777777778,\"#fb9f3a\"],[0.8888888888888888,\"#fdca26\"],[1.0,\"#f0f921\"]]}],\"heatmap\":[{\"type\":\"heatmap\",\"colorbar\":{\"outlinewidth\":0,\"ticks\":\"\"},\"colorscale\":[[0.0,\"#0d0887\"],[0.1111111111111111,\"#46039f\"],[0.2222222222222222,\"#7201a8\"],[0.3333333333333333,\"#9c179e\"],[0.4444444444444444,\"#bd3786\"],[0.5555555555555556,\"#d8576b\"],[0.6666666666666666,\"#ed7953\"],[0.7777777777777778,\"#fb9f3a\"],[0.8888888888888888,\"#fdca26\"],[1.0,\"#f0f921\"]]}],\"heatmapgl\":[{\"type\":\"heatmapgl\",\"colorbar\":{\"outlinewidth\":0,\"ticks\":\"\"},\"colorscale\":[[0.0,\"#0d0887\"],[0.1111111111111111,\"#46039f\"],[0.2222222222222222,\"#7201a8\"],[0.3333333333333333,\"#9c179e\"],[0.4444444444444444,\"#bd3786\"],[0.5555555555555556,\"#d8576b\"],[0.6666666666666666,\"#ed7953\"],[0.7777777777777778,\"#fb9f3a\"],[0.8888888888888888,\"#fdca26\"],[1.0,\"#f0f921\"]]}],\"contourcarpet\":[{\"type\":\"contourcarpet\",\"colorbar\":{\"outlinewidth\":0,\"ticks\":\"\"}}],\"contour\":[{\"type\":\"contour\",\"colorbar\":{\"outlinewidth\":0,\"ticks\":\"\"},\"colorscale\":[[0.0,\"#0d0887\"],[0.1111111111111111,\"#46039f\"],[0.2222222222222222,\"#7201a8\"],[0.3333333333333333,\"#9c179e\"],[0.4444444444444444,\"#bd3786\"],[0.5555555555555556,\"#d8576b\"],[0.6666666666666666,\"#ed7953\"],[0.7777777777777778,\"#fb9f3a\"],[0.8888888888888888,\"#fdca26\"],[1.0,\"#f0f921\"]]}],\"surface\":[{\"type\":\"surface\",\"colorbar\":{\"outlinewidth\":0,\"ticks\":\"\"},\"colorscale\":[[0.0,\"#0d0887\"],[0.1111111111111111,\"#46039f\"],[0.2222222222222222,\"#7201a8\"],[0.3333333333333333,\"#9c179e\"],[0.4444444444444444,\"#bd3786\"],[0.5555555555555556,\"#d8576b\"],[0.6666666666666666,\"#ed7953\"],[0.7777777777777778,\"#fb9f3a\"],[0.8888888888888888,\"#fdca26\"],[1.0,\"#f0f921\"]]}],\"mesh3d\":[{\"type\":\"mesh3d\",\"colorbar\":{\"outlinewidth\":0,\"ticks\":\"\"}}],\"scatter\":[{\"fillpattern\":{\"fillmode\":\"overlay\",\"size\":10,\"solidity\":0.2},\"type\":\"scatter\"}],\"parcoords\":[{\"type\":\"parcoords\",\"line\":{\"colorbar\":{\"outlinewidth\":0,\"ticks\":\"\"}}}],\"scatterpolargl\":[{\"type\":\"scatterpolargl\",\"marker\":{\"colorbar\":{\"outlinewidth\":0,\"ticks\":\"\"}}}],\"bar\":[{\"error_x\":{\"color\":\"#2a3f5f\"},\"error_y\":{\"color\":\"#2a3f5f\"},\"marker\":{\"line\":{\"color\":\"#E5ECF6\",\"width\":0.5},\"pattern\":{\"fillmode\":\"overlay\",\"size\":10,\"solidity\":0.2}},\"type\":\"bar\"}],\"scattergeo\":[{\"type\":\"scattergeo\",\"marker\":{\"colorbar\":{\"outlinewidth\":0,\"ticks\":\"\"}}}],\"scatterpolar\":[{\"type\":\"scatterpolar\",\"marker\":{\"colorbar\":{\"outlinewidth\":0,\"ticks\":\"\"}}}],\"histogram\":[{\"marker\":{\"pattern\":{\"fillmode\":\"overlay\",\"size\":10,\"solidity\":0.2}},\"type\":\"histogram\"}],\"scattergl\":[{\"type\":\"scattergl\",\"marker\":{\"colorbar\":{\"outlinewidth\":0,\"ticks\":\"\"}}}],\"scatter3d\":[{\"type\":\"scatter3d\",\"line\":{\"colorbar\":{\"outlinewidth\":0,\"ticks\":\"\"}},\"marker\":{\"colorbar\":{\"outlinewidth\":0,\"ticks\":\"\"}}}],\"scattermapbox\":[{\"type\":\"scattermapbox\",\"marker\":{\"colorbar\":{\"outlinewidth\":0,\"ticks\":\"\"}}}],\"scatterternary\":[{\"type\":\"scatterternary\",\"marker\":{\"colorbar\":{\"outlinewidth\":0,\"ticks\":\"\"}}}],\"scattercarpet\":[{\"type\":\"scattercarpet\",\"marker\":{\"colorbar\":{\"outlinewidth\":0,\"ticks\":\"\"}}}],\"carpet\":[{\"aaxis\":{\"endlinecolor\":\"#2a3f5f\",\"gridcolor\":\"white\",\"linecolor\":\"white\",\"minorgridcolor\":\"white\",\"startlinecolor\":\"#2a3f5f\"},\"baxis\":{\"endlinecolor\":\"#2a3f5f\",\"gridcolor\":\"white\",\"linecolor\":\"white\",\"minorgridcolor\":\"white\",\"startlinecolor\":\"#2a3f5f\"},\"type\":\"carpet\"}],\"table\":[{\"cells\":{\"fill\":{\"color\":\"#EBF0F8\"},\"line\":{\"color\":\"white\"}},\"header\":{\"fill\":{\"color\":\"#C8D4E3\"},\"line\":{\"color\":\"white\"}},\"type\":\"table\"}],\"barpolar\":[{\"marker\":{\"line\":{\"color\":\"#E5ECF6\",\"width\":0.5},\"pattern\":{\"fillmode\":\"overlay\",\"size\":10,\"solidity\":0.2}},\"type\":\"barpolar\"}],\"pie\":[{\"automargin\":true,\"type\":\"pie\"}]},\"layout\":{\"autotypenumbers\":\"strict\",\"colorway\":[\"#636efa\",\"#EF553B\",\"#00cc96\",\"#ab63fa\",\"#FFA15A\",\"#19d3f3\",\"#FF6692\",\"#B6E880\",\"#FF97FF\",\"#FECB52\"],\"font\":{\"color\":\"#2a3f5f\"},\"hovermode\":\"closest\",\"hoverlabel\":{\"align\":\"left\"},\"paper_bgcolor\":\"white\",\"plot_bgcolor\":\"#E5ECF6\",\"polar\":{\"bgcolor\":\"#E5ECF6\",\"angularaxis\":{\"gridcolor\":\"white\",\"linecolor\":\"white\",\"ticks\":\"\"},\"radialaxis\":{\"gridcolor\":\"white\",\"linecolor\":\"white\",\"ticks\":\"\"}},\"ternary\":{\"bgcolor\":\"#E5ECF6\",\"aaxis\":{\"gridcolor\":\"white\",\"linecolor\":\"white\",\"ticks\":\"\"},\"baxis\":{\"gridcolor\":\"white\",\"linecolor\":\"white\",\"ticks\":\"\"},\"caxis\":{\"gridcolor\":\"white\",\"linecolor\":\"white\",\"ticks\":\"\"}},\"coloraxis\":{\"colorbar\":{\"outlinewidth\":0,\"ticks\":\"\"}},\"colorscale\":{\"sequential\":[[0.0,\"#0d0887\"],[0.1111111111111111,\"#46039f\"],[0.2222222222222222,\"#7201a8\"],[0.3333333333333333,\"#9c179e\"],[0.4444444444444444,\"#bd3786\"],[0.5555555555555556,\"#d8576b\"],[0.6666666666666666,\"#ed7953\"],[0.7777777777777778,\"#fb9f3a\"],[0.8888888888888888,\"#fdca26\"],[1.0,\"#f0f921\"]],\"sequentialminus\":[[0.0,\"#0d0887\"],[0.1111111111111111,\"#46039f\"],[0.2222222222222222,\"#7201a8\"],[0.3333333333333333,\"#9c179e\"],[0.4444444444444444,\"#bd3786\"],[0.5555555555555556,\"#d8576b\"],[0.6666666666666666,\"#ed7953\"],[0.7777777777777778,\"#fb9f3a\"],[0.8888888888888888,\"#fdca26\"],[1.0,\"#f0f921\"]],\"diverging\":[[0,\"#8e0152\"],[0.1,\"#c51b7d\"],[0.2,\"#de77ae\"],[0.3,\"#f1b6da\"],[0.4,\"#fde0ef\"],[0.5,\"#f7f7f7\"],[0.6,\"#e6f5d0\"],[0.7,\"#b8e186\"],[0.8,\"#7fbc41\"],[0.9,\"#4d9221\"],[1,\"#276419\"]]},\"xaxis\":{\"gridcolor\":\"white\",\"linecolor\":\"white\",\"ticks\":\"\",\"title\":{\"standoff\":15},\"zerolinecolor\":\"white\",\"automargin\":true,\"zerolinewidth\":2},\"yaxis\":{\"gridcolor\":\"white\",\"linecolor\":\"white\",\"ticks\":\"\",\"title\":{\"standoff\":15},\"zerolinecolor\":\"white\",\"automargin\":true,\"zerolinewidth\":2},\"scene\":{\"xaxis\":{\"backgroundcolor\":\"#E5ECF6\",\"gridcolor\":\"white\",\"linecolor\":\"white\",\"showbackground\":true,\"ticks\":\"\",\"zerolinecolor\":\"white\",\"gridwidth\":2},\"yaxis\":{\"backgroundcolor\":\"#E5ECF6\",\"gridcolor\":\"white\",\"linecolor\":\"white\",\"showbackground\":true,\"ticks\":\"\",\"zerolinecolor\":\"white\",\"gridwidth\":2},\"zaxis\":{\"backgroundcolor\":\"#E5ECF6\",\"gridcolor\":\"white\",\"linecolor\":\"white\",\"showbackground\":true,\"ticks\":\"\",\"zerolinecolor\":\"white\",\"gridwidth\":2}},\"shapedefaults\":{\"line\":{\"color\":\"#2a3f5f\"}},\"annotationdefaults\":{\"arrowcolor\":\"#2a3f5f\",\"arrowhead\":0,\"arrowwidth\":1},\"geo\":{\"bgcolor\":\"white\",\"landcolor\":\"#E5ECF6\",\"subunitcolor\":\"white\",\"showland\":true,\"showlakes\":true,\"lakecolor\":\"white\"},\"title\":{\"x\":0.05},\"mapbox\":{\"style\":\"light\"}}},\"margin\":{\"l\":65,\"r\":50,\"b\":65,\"t\":90},\"title\":{\"text\":\"Gauss Padded Frequency\"},\"autosize\":false,\"width\":500,\"height\":500},                        {\"responsive\": true}                    ).then(function(){\n",
              "                            \n",
              "var gd = document.getElementById('86eea29d-6c46-43b8-9d45-c064a799867c');\n",
              "var x = new MutationObserver(function (mutations, observer) {{\n",
              "        var display = window.getComputedStyle(gd).display;\n",
              "        if (!display || display === 'none') {{\n",
              "            console.log([gd, 'removed!']);\n",
              "            Plotly.purge(gd);\n",
              "            observer.disconnect();\n",
              "        }}\n",
              "}});\n",
              "\n",
              "// Listen for the removal of the full notebook cells\n",
              "var notebookContainer = gd.closest('#notebook-container');\n",
              "if (notebookContainer) {{\n",
              "    x.observe(notebookContainer, {childList: true});\n",
              "}}\n",
              "\n",
              "// Listen for the clearing of the current output cell\n",
              "var outputEl = gd.closest('.output');\n",
              "if (outputEl) {{\n",
              "    x.observe(outputEl, {childList: true});\n",
              "}}\n",
              "\n",
              "                        })                };                            </script>        </div>\n",
              "</body>\n",
              "</html>"
            ]
          },
          "metadata": {}
        }
      ]
    },
    {
      "cell_type": "code",
      "source": [
        "z.shape"
      ],
      "metadata": {
        "colab": {
          "base_uri": "https://localhost:8080/"
        },
        "id": "eovmh5jX8F_-",
        "outputId": "2fd394e0-2f40-41e4-e770-d0d71d9d0600"
      },
      "execution_count": 56,
      "outputs": [
        {
          "output_type": "execute_result",
          "data": {
            "text/plain": [
              "(25, 25)"
            ]
          },
          "metadata": {},
          "execution_count": 56
        }
      ]
    },
    {
      "cell_type": "code",
      "source": [],
      "metadata": {
        "id": "8iRIgFSQ8IN8"
      },
      "execution_count": null,
      "outputs": []
    }
  ]
}