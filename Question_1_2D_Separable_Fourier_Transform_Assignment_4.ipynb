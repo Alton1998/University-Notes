{
  "nbformat": 4,
  "nbformat_minor": 0,
  "metadata": {
    "colab": {
      "provenance": [],
      "authorship_tag": "ABX9TyNzrkrRUpsp+mhwP3vIvuOa",
      "include_colab_link": true
    },
    "kernelspec": {
      "name": "python3",
      "display_name": "Python 3"
    },
    "language_info": {
      "name": "python"
    }
  },
  "cells": [
    {
      "cell_type": "markdown",
      "metadata": {
        "id": "view-in-github",
        "colab_type": "text"
      },
      "source": [
        "<a href=\"https://colab.research.google.com/github/Alton1998/University-Notes/blob/main/Question_1_2D_Separable_Fourier_Transform_Assignment_4.ipynb\" target=\"_parent\"><img src=\"https://colab.research.google.com/assets/colab-badge.svg\" alt=\"Open In Colab\"/></a>"
      ]
    },
    {
      "cell_type": "code",
      "execution_count": 81,
      "metadata": {
        "id": "jddGW_sqWim5"
      },
      "outputs": [],
      "source": [
        "import numpy as np\n",
        "from scipy.fft import rfft,fft"
      ]
    },
    {
      "cell_type": "markdown",
      "source": [
        "# Part 1"
      ],
      "metadata": {
        "id": "qBbwBdUq93pA"
      }
    },
    {
      "cell_type": "code",
      "source": [
        "original_mat = [[22,25,35,30],[30,32,33,36],[32,30,36,45],[38,35,32,40]]"
      ],
      "metadata": {
        "id": "WHHG3DoyWzB9"
      },
      "execution_count": 82,
      "outputs": []
    },
    {
      "cell_type": "code",
      "source": [
        "original_mat_np_arr= np.array(original_mat)"
      ],
      "metadata": {
        "id": "qgnJ5wDOXVyq"
      },
      "execution_count": 83,
      "outputs": []
    },
    {
      "cell_type": "code",
      "source": [
        "original_mat_np_arr"
      ],
      "metadata": {
        "colab": {
          "base_uri": "https://localhost:8080/"
        },
        "id": "pxHGfC1NXd1p",
        "outputId": "6934385a-5e29-4709-8bd4-cc9c46570679"
      },
      "execution_count": 84,
      "outputs": [
        {
          "output_type": "execute_result",
          "data": {
            "text/plain": [
              "array([[22, 25, 35, 30],\n",
              "       [30, 32, 33, 36],\n",
              "       [32, 30, 36, 45],\n",
              "       [38, 35, 32, 40]])"
            ]
          },
          "metadata": {},
          "execution_count": 84
        }
      ]
    },
    {
      "cell_type": "code",
      "source": [
        "row_transform = []\n",
        "for row in original_mat_np_arr:\n",
        "  row_transform.append(fft(row))"
      ],
      "metadata": {
        "id": "YI0_7pqIaSvC"
      },
      "execution_count": 85,
      "outputs": []
    },
    {
      "cell_type": "code",
      "source": [
        "row_transform = np.array(row_transform)"
      ],
      "metadata": {
        "id": "j09f3NeuZTaH"
      },
      "execution_count": 86,
      "outputs": []
    },
    {
      "cell_type": "code",
      "source": [
        "row_transform"
      ],
      "metadata": {
        "colab": {
          "base_uri": "https://localhost:8080/"
        },
        "id": "uA4vsIoqenwR",
        "outputId": "0b12df6b-18eb-41f5-dd15-b3a8c86626df"
      },
      "execution_count": 87,
      "outputs": [
        {
          "output_type": "execute_result",
          "data": {
            "text/plain": [
              "array([[112. -0.j, -13. +5.j,   2. -0.j, -13. -5.j],\n",
              "       [131. -0.j,  -3. +4.j,  -5. -0.j,  -3. -4.j],\n",
              "       [143. -0.j,  -4.+15.j,  -7. -0.j,  -4.-15.j],\n",
              "       [145. -0.j,   6. +5.j,  -5. -0.j,   6. -5.j]])"
            ]
          },
          "metadata": {},
          "execution_count": 87
        }
      ]
    },
    {
      "cell_type": "code",
      "source": [
        "column_transform = []\n",
        "for row in row_transform.transpose():\n",
        "  column_transform.append((fft(row)))"
      ],
      "metadata": {
        "id": "FrNgnE-XdLk9"
      },
      "execution_count": 88,
      "outputs": []
    },
    {
      "cell_type": "code",
      "source": [
        "column_transform = np.array(column_transform)"
      ],
      "metadata": {
        "id": "eqNB8-Soc42Z"
      },
      "execution_count": 89,
      "outputs": []
    },
    {
      "cell_type": "code",
      "source": [
        "column_transform = column_transform.transpose()"
      ],
      "metadata": {
        "id": "b0fdCN9pZPkb"
      },
      "execution_count": 90,
      "outputs": []
    },
    {
      "cell_type": "code",
      "source": [
        "column_transform"
      ],
      "metadata": {
        "colab": {
          "base_uri": "https://localhost:8080/"
        },
        "id": "LNFVB3iheaxG",
        "outputId": "5e3c7682-83f7-4ee7-bc2d-56d82851db6d"
      },
      "execution_count": 91,
      "outputs": [
        {
          "output_type": "execute_result",
          "data": {
            "text/plain": [
              "array([[531. -0.j, -14.+29.j, -15. -0.j, -14.-29.j],\n",
              "       [-31.+14.j, -10. -1.j,   9. +0.j,  -8.+19.j],\n",
              "       [-21. +0.j, -20.+11.j,   5. +0.j, -20.-11.j],\n",
              "       [-31.-14.j,  -8.-19.j,   9. +0.j, -10. +1.j]])"
            ]
          },
          "metadata": {},
          "execution_count": 91
        }
      ]
    },
    {
      "cell_type": "markdown",
      "source": [
        "# Part 3"
      ],
      "metadata": {
        "id": "UAIGy2mi9_RD"
      }
    },
    {
      "cell_type": "code",
      "source": [
        "squared_orginal_matrix = np.square(original_mat_np_arr)"
      ],
      "metadata": {
        "id": "DBHip--7ehWu"
      },
      "execution_count": 92,
      "outputs": []
    },
    {
      "cell_type": "code",
      "source": [
        "squared_orginal_matrix"
      ],
      "metadata": {
        "colab": {
          "base_uri": "https://localhost:8080/"
        },
        "id": "eS-Z5_E78qzu",
        "outputId": "5e7645a3-b809-4345-a286-98abbdc52ab1"
      },
      "execution_count": 93,
      "outputs": [
        {
          "output_type": "execute_result",
          "data": {
            "text/plain": [
              "array([[ 484,  625, 1225,  900],\n",
              "       [ 900, 1024, 1089, 1296],\n",
              "       [1024,  900, 1296, 2025],\n",
              "       [1444, 1225, 1024, 1600]])"
            ]
          },
          "metadata": {},
          "execution_count": 93
        }
      ]
    },
    {
      "cell_type": "code",
      "source": [
        "squared_orginal_matrix_sum = squared_orginal_matrix.sum()"
      ],
      "metadata": {
        "id": "0IodLKwh8ruM"
      },
      "execution_count": 94,
      "outputs": []
    },
    {
      "cell_type": "code",
      "source": [
        "squared_orginal_matrix_sum"
      ],
      "metadata": {
        "colab": {
          "base_uri": "https://localhost:8080/"
        },
        "id": "z337NqfF80Io",
        "outputId": "8330a222-800e-44f6-be08-792519778834"
      },
      "execution_count": 95,
      "outputs": [
        {
          "output_type": "execute_result",
          "data": {
            "text/plain": [
              "18081"
            ]
          },
          "metadata": {},
          "execution_count": 95
        }
      ]
    },
    {
      "cell_type": "code",
      "source": [
        "scaled_column_transform = (1/4) * column_transform"
      ],
      "metadata": {
        "id": "0fbi5-HJ816h"
      },
      "execution_count": 96,
      "outputs": []
    },
    {
      "cell_type": "code",
      "source": [
        "scaled_column_transform"
      ],
      "metadata": {
        "colab": {
          "base_uri": "https://localhost:8080/"
        },
        "id": "g5r36yrd9C0v",
        "outputId": "37a2b011-4424-4386-a000-9117192a2642"
      },
      "execution_count": 97,
      "outputs": [
        {
          "output_type": "execute_result",
          "data": {
            "text/plain": [
              "array([[132.75+0.j  ,  -3.5 +7.25j,  -3.75-0.j  ,  -3.5 -7.25j],\n",
              "       [ -7.75+3.5j ,  -2.5 -0.25j,   2.25+0.j  ,  -2.  +4.75j],\n",
              "       [ -5.25+0.j  ,  -5.  +2.75j,   1.25+0.j  ,  -5.  -2.75j],\n",
              "       [ -7.75-3.5j ,  -2.  -4.75j,   2.25+0.j  ,  -2.5 +0.25j]])"
            ]
          },
          "metadata": {},
          "execution_count": 97
        }
      ]
    },
    {
      "cell_type": "code",
      "source": [
        "scaled_column_transform_abs = np.abs(scaled_column_transform)"
      ],
      "metadata": {
        "id": "GGQzyRHa9EJv"
      },
      "execution_count": 98,
      "outputs": []
    },
    {
      "cell_type": "code",
      "source": [
        "scaled_column_transform_abs"
      ],
      "metadata": {
        "colab": {
          "base_uri": "https://localhost:8080/"
        },
        "id": "lfnH2-1S9U4R",
        "outputId": "e5d3c7ff-391b-47cd-cb30-16d63f60b6b7"
      },
      "execution_count": 99,
      "outputs": [
        {
          "output_type": "execute_result",
          "data": {
            "text/plain": [
              "array([[132.75      ,   8.05062109,   3.75      ,   8.05062109],\n",
              "       [  8.50367568,   2.51246891,   2.25      ,   5.15388203],\n",
              "       [  5.25      ,   5.70635611,   1.25      ,   5.70635611],\n",
              "       [  8.50367568,   5.15388203,   2.25      ,   2.51246891]])"
            ]
          },
          "metadata": {},
          "execution_count": 99
        }
      ]
    },
    {
      "cell_type": "code",
      "source": [
        "scaled_column_transform_square = np.square(scaled_column_transform_abs)"
      ],
      "metadata": {
        "id": "M3US5W_l9WwB"
      },
      "execution_count": 100,
      "outputs": []
    },
    {
      "cell_type": "code",
      "source": [
        "scaled_column_transform_square.sum()"
      ],
      "metadata": {
        "colab": {
          "base_uri": "https://localhost:8080/"
        },
        "id": "xiPIqFnU9hyZ",
        "outputId": "1ee39c4f-b040-490d-d48e-919d1aac5ded"
      },
      "execution_count": 101,
      "outputs": [
        {
          "output_type": "execute_result",
          "data": {
            "text/plain": [
              "18081.0"
            ]
          },
          "metadata": {},
          "execution_count": 101
        }
      ]
    },
    {
      "cell_type": "markdown",
      "source": [
        "# DC Energy Calculation"
      ],
      "metadata": {
        "id": "iKiG6bGFA8M7"
      }
    },
    {
      "cell_type": "markdown",
      "source": [
        "## Energy in the Signal Domain"
      ],
      "metadata": {
        "id": "ICoM4dLKBF9T"
      }
    },
    {
      "cell_type": "code",
      "source": [
        "signal_energy = np.sum(np.square(np.abs(original_mat_np_arr)))"
      ],
      "metadata": {
        "id": "JIMlrvmm_oR0"
      },
      "execution_count": 102,
      "outputs": []
    },
    {
      "cell_type": "code",
      "source": [
        "signal_energy"
      ],
      "metadata": {
        "colab": {
          "base_uri": "https://localhost:8080/"
        },
        "id": "4UW8x4_3BxZt",
        "outputId": "bba1bcfd-4347-48bf-c6fe-e0fc6f970b35"
      },
      "execution_count": 103,
      "outputs": [
        {
          "output_type": "execute_result",
          "data": {
            "text/plain": [
              "18081"
            ]
          },
          "metadata": {},
          "execution_count": 103
        }
      ]
    },
    {
      "cell_type": "markdown",
      "source": [
        "## Energy in the Frequency Domain"
      ],
      "metadata": {
        "id": "L2430JKyB8hT"
      }
    },
    {
      "cell_type": "code",
      "source": [
        "n_rows,n_columns=column_transform.shape"
      ],
      "metadata": {
        "id": "EOuMNsEQCYzh"
      },
      "execution_count": 104,
      "outputs": []
    },
    {
      "cell_type": "code",
      "source": [
        "n_rows"
      ],
      "metadata": {
        "colab": {
          "base_uri": "https://localhost:8080/"
        },
        "id": "3dqvOwavCrMg",
        "outputId": "38197760-2401-45dd-95d3-8e414ab8b746"
      },
      "execution_count": 105,
      "outputs": [
        {
          "output_type": "execute_result",
          "data": {
            "text/plain": [
              "4"
            ]
          },
          "metadata": {},
          "execution_count": 105
        }
      ]
    },
    {
      "cell_type": "code",
      "source": [
        "n_columns"
      ],
      "metadata": {
        "colab": {
          "base_uri": "https://localhost:8080/"
        },
        "id": "0piamWmgCtCu",
        "outputId": "51c94538-d4da-4566-806e-e745693585a0"
      },
      "execution_count": 106,
      "outputs": [
        {
          "output_type": "execute_result",
          "data": {
            "text/plain": [
              "4"
            ]
          },
          "metadata": {},
          "execution_count": 106
        }
      ]
    },
    {
      "cell_type": "code",
      "source": [
        "frequency_domain_energy = (1/n_rows)*(1/n_columns)*np.sum(np.square(np.abs(column_transform)))"
      ],
      "metadata": {
        "id": "8LHDZSKXBypc"
      },
      "execution_count": 107,
      "outputs": []
    },
    {
      "cell_type": "code",
      "source": [
        "frequency_domain_energy"
      ],
      "metadata": {
        "colab": {
          "base_uri": "https://localhost:8080/"
        },
        "id": "rV-FOMQiC9SN",
        "outputId": "a84914bb-0eba-45a3-bc43-e582a08859ad"
      },
      "execution_count": 108,
      "outputs": [
        {
          "output_type": "execute_result",
          "data": {
            "text/plain": [
              "18081.0"
            ]
          },
          "metadata": {},
          "execution_count": 108
        }
      ]
    },
    {
      "cell_type": "code",
      "source": [
        "energy_dc_coeff = (1/n_rows)*(1/n_columns)*np.square(np.abs(column_transform[0][0]))"
      ],
      "metadata": {
        "id": "Wfg06pNqDi8X"
      },
      "execution_count": 111,
      "outputs": []
    },
    {
      "cell_type": "code",
      "source": [
        "energy_dc_coeff"
      ],
      "metadata": {
        "colab": {
          "base_uri": "https://localhost:8080/"
        },
        "id": "lO8nF2CjDy9M",
        "outputId": "240d47c7-9a64-48a9-aef5-64cb449e89e1"
      },
      "execution_count": 112,
      "outputs": [
        {
          "output_type": "execute_result",
          "data": {
            "text/plain": [
              "17622.5625"
            ]
          },
          "metadata": {},
          "execution_count": 112
        }
      ]
    },
    {
      "cell_type": "code",
      "source": [
        "ratio = energy_dc_coeff/frequency_domain_energy"
      ],
      "metadata": {
        "id": "8Y5XccIFEN2F"
      },
      "execution_count": 113,
      "outputs": []
    },
    {
      "cell_type": "code",
      "source": [
        "ratio"
      ],
      "metadata": {
        "colab": {
          "base_uri": "https://localhost:8080/"
        },
        "id": "1lpH1GzpEUQA",
        "outputId": "a6e9e55c-bd99-4909-ab69-8cd7252eca1d"
      },
      "execution_count": 114,
      "outputs": [
        {
          "output_type": "execute_result",
          "data": {
            "text/plain": [
              "0.9746453459432554"
            ]
          },
          "metadata": {},
          "execution_count": 114
        }
      ]
    },
    {
      "cell_type": "code",
      "source": [],
      "metadata": {
        "id": "RIlscx4pEVPU"
      },
      "execution_count": null,
      "outputs": []
    }
  ]
}