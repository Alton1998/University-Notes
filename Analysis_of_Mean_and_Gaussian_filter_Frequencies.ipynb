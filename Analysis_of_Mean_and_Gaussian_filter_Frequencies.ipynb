{
  "nbformat": 4,
  "nbformat_minor": 0,
  "metadata": {
    "colab": {
      "provenance": [],
      "authorship_tag": "ABX9TyMvtZmQuzusFZWGhMFR2JYl",
      "include_colab_link": true
    },
    "kernelspec": {
      "name": "python3",
      "display_name": "Python 3"
    },
    "language_info": {
      "name": "python"
    }
  },
  "cells": [
    {
      "cell_type": "markdown",
      "metadata": {
        "id": "view-in-github",
        "colab_type": "text"
      },
      "source": [
        "<a href=\"https://colab.research.google.com/github/Alton1998/University-Notes/blob/main/Analysis_of_Mean_and_Gaussian_filter_Frequencies.ipynb\" target=\"_parent\"><img src=\"https://colab.research.google.com/assets/colab-badge.svg\" alt=\"Open In Colab\"/></a>"
      ]
    },
    {
      "cell_type": "code",
      "execution_count": 10,
      "metadata": {
        "id": "gTI3IFtj4T7W"
      },
      "outputs": [],
      "source": [
        "import numpy as np\n",
        "import scipy\n",
        "import matplotlib.pyplot as plt\n",
        "from matplotlib.colors import LogNorm"
      ]
    },
    {
      "cell_type": "markdown",
      "source": [
        "# Defining the Mean Filter and the Gaussian Filter"
      ],
      "metadata": {
        "id": "mVUi5GZK6hn7"
      }
    },
    {
      "cell_type": "code",
      "source": [
        "AM_FILTER_5 = np.ones((5,5))/25"
      ],
      "metadata": {
        "id": "8fqsstQd40JT"
      },
      "execution_count": 2,
      "outputs": []
    },
    {
      "cell_type": "code",
      "source": [
        "AM_FILTER_5"
      ],
      "metadata": {
        "colab": {
          "base_uri": "https://localhost:8080/"
        },
        "id": "SBPFb2I4496J",
        "outputId": "80f7b4a2-7d7c-40b0-a49e-293faaf8c70f"
      },
      "execution_count": 3,
      "outputs": [
        {
          "output_type": "execute_result",
          "data": {
            "text/plain": [
              "array([[0.04, 0.04, 0.04, 0.04, 0.04],\n",
              "       [0.04, 0.04, 0.04, 0.04, 0.04],\n",
              "       [0.04, 0.04, 0.04, 0.04, 0.04],\n",
              "       [0.04, 0.04, 0.04, 0.04, 0.04],\n",
              "       [0.04, 0.04, 0.04, 0.04, 0.04]])"
            ]
          },
          "metadata": {},
          "execution_count": 3
        }
      ]
    },
    {
      "cell_type": "code",
      "source": [
        "gaussian_filter = [[1,4,7,4,1],\n",
        "                   [4,16,26,16,4],\n",
        "                   [7,26,41,26,7],\n",
        "                   [4,16,26,16,4],\n",
        "                   [1,4,7,4,1]\n",
        "                   ]"
      ],
      "metadata": {
        "id": "VbKi5Pqq5y71"
      },
      "execution_count": 4,
      "outputs": []
    },
    {
      "cell_type": "code",
      "source": [
        "gaussian_filter = np.array(gaussian_filter)/273"
      ],
      "metadata": {
        "id": "Aul3s-XO6Peo"
      },
      "execution_count": 5,
      "outputs": []
    },
    {
      "cell_type": "code",
      "source": [
        "gaussian_filter"
      ],
      "metadata": {
        "colab": {
          "base_uri": "https://localhost:8080/"
        },
        "id": "Lp_xVyjQ6VhG",
        "outputId": "0773d195-f8dd-41e9-a4ea-cafa9a31cecd"
      },
      "execution_count": 6,
      "outputs": [
        {
          "output_type": "execute_result",
          "data": {
            "text/plain": [
              "array([[0.003663  , 0.01465201, 0.02564103, 0.01465201, 0.003663  ],\n",
              "       [0.01465201, 0.05860806, 0.0952381 , 0.05860806, 0.01465201],\n",
              "       [0.02564103, 0.0952381 , 0.15018315, 0.0952381 , 0.02564103],\n",
              "       [0.01465201, 0.05860806, 0.0952381 , 0.05860806, 0.01465201],\n",
              "       [0.003663  , 0.01465201, 0.02564103, 0.01465201, 0.003663  ]])"
            ]
          },
          "metadata": {},
          "execution_count": 6
        }
      ]
    },
    {
      "cell_type": "markdown",
      "source": [
        "# Fourier Analysis of the Arithmetic mean filter and the Gaussian Filter (Before Zero Padding)"
      ],
      "metadata": {
        "id": "lKmtmEUy6rr3"
      }
    },
    {
      "cell_type": "code",
      "source": [
        "fft_am = scipy.fft.fft2(AM_FILTER_5)"
      ],
      "metadata": {
        "id": "r2h6ARr87azM"
      },
      "execution_count": 7,
      "outputs": []
    },
    {
      "cell_type": "code",
      "source": [
        "fft_am"
      ],
      "metadata": {
        "colab": {
          "base_uri": "https://localhost:8080/"
        },
        "id": "NLwC79kZ7i11",
        "outputId": "49596d41-9f82-4622-c9da-fc737eb4b9bd"
      },
      "execution_count": 8,
      "outputs": [
        {
          "output_type": "execute_result",
          "data": {
            "text/plain": [
              "array([[ 1.00000000e+00-0.j,  6.93889390e-17+0.j,  3.46944695e-17+0.j,\n",
              "         3.46944695e-17-0.j,  6.93889390e-17-0.j],\n",
              "       [ 0.00000000e+00+0.j,  0.00000000e+00+0.j,  0.00000000e+00+0.j,\n",
              "         0.00000000e+00-0.j,  0.00000000e+00-0.j],\n",
              "       [-2.77555756e-17+0.j,  0.00000000e+00+0.j,  0.00000000e+00+0.j,\n",
              "         0.00000000e+00-0.j,  0.00000000e+00-0.j],\n",
              "       [-2.77555756e-17-0.j,  0.00000000e+00+0.j,  0.00000000e+00+0.j,\n",
              "         0.00000000e+00-0.j,  0.00000000e+00-0.j],\n",
              "       [ 0.00000000e+00-0.j,  0.00000000e+00+0.j,  0.00000000e+00+0.j,\n",
              "         0.00000000e+00-0.j,  0.00000000e+00-0.j]])"
            ]
          },
          "metadata": {},
          "execution_count": 8
        }
      ]
    },
    {
      "cell_type": "code",
      "source": [
        "plt.imshow(np.abs(fft_am))\n",
        "plt.colorbar()"
      ],
      "metadata": {
        "colab": {
          "base_uri": "https://localhost:8080/",
          "height": 452
        },
        "id": "m-B1lCds7oAa",
        "outputId": "a3b858cf-6f36-47cb-c37c-660165703e5a"
      },
      "execution_count": 15,
      "outputs": [
        {
          "output_type": "execute_result",
          "data": {
            "text/plain": [
              "<matplotlib.colorbar.Colorbar at 0x7b5b94b20640>"
            ]
          },
          "metadata": {},
          "execution_count": 15
        },
        {
          "output_type": "display_data",
          "data": {
            "text/plain": [
              "<Figure size 640x480 with 2 Axes>"
            ],
            "image/png": "[encoded data removed]"
          },
          "metadata": {}
        }
      ]
    },
    {
      "cell_type": "code",
      "source": [
        "fft_gauss = scipy.fft.fft2(gaussian_filter)"
      ],
      "metadata": {
        "id": "QeWEAsVo8AhM"
      },
      "execution_count": 16,
      "outputs": []
    },
    {
      "cell_type": "code",
      "source": [
        "fft_gauss"
      ],
      "metadata": {
        "colab": {
          "base_uri": "https://localhost:8080/"
        },
        "id": "hBCIT0uB8zm4",
        "outputId": "3c6ae29b-36f1-413a-ee83-ac35736fde98"
      },
      "execution_count": 17,
      "outputs": [
        {
          "output_type": "execute_result",
          "data": {
            "text/plain": [
              "array([[ 1.00000000e+00-0.00000000e+00j, -3.56452489e-01-2.58977892e-01j,\n",
              "         1.21301447e-02+3.73327465e-02j,  1.21301447e-02-3.73327465e-02j,\n",
              "        -3.56452489e-01+2.58977892e-01j],\n",
              "       [-3.56452489e-01-2.58977892e-01j,  5.79715675e-02+1.78418139e-01j,\n",
              "         3.39579115e-03-1.04511705e-02j, -8.89029664e-03+6.45917860e-03j,\n",
              "         1.87599933e-01+1.38777878e-17j],\n",
              "       [ 1.21301447e-02+3.73327465e-02j,  3.39579115e-03-1.04511705e-02j,\n",
              "         6.36491131e-04-4.62437875e-04j, -7.86746305e-04+3.14418630e-18j,\n",
              "        -8.89029664e-03-6.45917860e-03j],\n",
              "       [ 1.21301447e-02-3.73327465e-02j, -8.89029664e-03+6.45917860e-03j,\n",
              "        -7.86746305e-04-3.14418630e-18j,  6.36491131e-04+4.62437875e-04j,\n",
              "         3.39579115e-03+1.04511705e-02j],\n",
              "       [-3.56452489e-01+2.58977892e-01j,  1.87599933e-01-1.38777878e-17j,\n",
              "        -8.89029664e-03-6.45917860e-03j,  3.39579115e-03+1.04511705e-02j,\n",
              "         5.79715675e-02-1.78418139e-01j]])"
            ]
          },
          "metadata": {},
          "execution_count": 17
        }
      ]
    },
    {
      "cell_type": "code",
      "source": [
        "plt.imshow(np.abs(fft_gauss))\n",
        "plt.colorbar()"
      ],
      "metadata": {
        "colab": {
          "base_uri": "https://localhost:8080/",
          "height": 452
        },
        "id": "uWqlNbr681Em",
        "outputId": "d22e6758-0a86-43f6-be1c-b46459b82ad6"
      },
      "execution_count": 18,
      "outputs": [
        {
          "output_type": "execute_result",
          "data": {
            "text/plain": [
              "<matplotlib.colorbar.Colorbar at 0x7b5b94cac160>"
            ]
          },
          "metadata": {},
          "execution_count": 18
        },
        {
          "output_type": "display_data",
          "data": {
            "text/plain": [
              "<Figure size 640x480 with 2 Axes>"
            ],
            "image/png": "[encoded data removed]"
          },
          "metadata": {}
        }
      ]
    },
    {
      "cell_type": "markdown",
      "source": [
        "# Fourier Analysis of the Arithmetic mean filter and the Gaussian Filter (After Zero Padding)"
      ],
      "metadata": {
        "id": "6tICJmly9Idj"
      }
    },
    {
      "cell_type": "code",
      "source": [
        "AM_FILTER_5_padded = np.pad(AM_FILTER_5, ((5,5),(5,5)), 'constant')"
      ],
      "metadata": {
        "id": "1ui0plGh9MUT"
      },
      "execution_count": 19,
      "outputs": []
    },
    {
      "cell_type": "code",
      "source": [
        "AM_FILTER_5_padded.shape"
      ],
      "metadata": {
        "colab": {
          "base_uri": "https://localhost:8080/"
        },
        "id": "OyPgBA7M72mk",
        "outputId": "89d45d6e-ae3f-44fa-9a80-7d3a6dcc427c"
      },
      "execution_count": 22,
      "outputs": [
        {
          "output_type": "execute_result",
          "data": {
            "text/plain": [
              "(15, 15)"
            ]
          },
          "metadata": {},
          "execution_count": 22
        }
      ]
    },
    {
      "cell_type": "code",
      "source": [
        "AM_FILTER_5_padded"
      ],
      "metadata": {
        "colab": {
          "base_uri": "https://localhost:8080/"
        },
        "id": "K18Ckueb-G2m",
        "outputId": "d932248f-f5ab-4f51-b69a-68fd2107b290"
      },
      "execution_count": 23,
      "outputs": [
        {
          "output_type": "execute_result",
          "data": {
            "text/plain": [
              "array([[0.  , 0.  , 0.  , 0.  , 0.  , 0.  , 0.  , 0.  , 0.  , 0.  , 0.  ,\n",
              "        0.  , 0.  , 0.  , 0.  ],\n",
              "       [0.  , 0.  , 0.  , 0.  , 0.  , 0.  , 0.  , 0.  , 0.  , 0.  , 0.  ,\n",
              "        0.  , 0.  , 0.  , 0.  ],\n",
              "       [0.  , 0.  , 0.  , 0.  , 0.  , 0.  , 0.  , 0.  , 0.  , 0.  , 0.  ,\n",
              "        0.  , 0.  , 0.  , 0.  ],\n",
              "       [0.  , 0.  , 0.  , 0.  , 0.  , 0.  , 0.  , 0.  , 0.  , 0.  , 0.  ,\n",
              "        0.  , 0.  , 0.  , 0.  ],\n",
              "       [0.  , 0.  , 0.  , 0.  , 0.  , 0.  , 0.  , 0.  , 0.  , 0.  , 0.  ,\n",
              "        0.  , 0.  , 0.  , 0.  ],\n",
              "       [0.  , 0.  , 0.  , 0.  , 0.  , 0.04, 0.04, 0.04, 0.04, 0.04, 0.  ,\n",
              "        0.  , 0.  , 0.  , 0.  ],\n",
              "       [0.  , 0.  , 0.  , 0.  , 0.  , 0.04, 0.04, 0.04, 0.04, 0.04, 0.  ,\n",
              "        0.  , 0.  , 0.  , 0.  ],\n",
              "       [0.  , 0.  , 0.  , 0.  , 0.  , 0.04, 0.04, 0.04, 0.04, 0.04, 0.  ,\n",
              "        0.  , 0.  , 0.  , 0.  ],\n",
              "       [0.  , 0.  , 0.  , 0.  , 0.  , 0.04, 0.04, 0.04, 0.04, 0.04, 0.  ,\n",
              "        0.  , 0.  , 0.  , 0.  ],\n",
              "       [0.  , 0.  , 0.  , 0.  , 0.  , 0.04, 0.04, 0.04, 0.04, 0.04, 0.  ,\n",
              "        0.  , 0.  , 0.  , 0.  ],\n",
              "       [0.  , 0.  , 0.  , 0.  , 0.  , 0.  , 0.  , 0.  , 0.  , 0.  , 0.  ,\n",
              "        0.  , 0.  , 0.  , 0.  ],\n",
              "       [0.  , 0.  , 0.  , 0.  , 0.  , 0.  , 0.  , 0.  , 0.  , 0.  , 0.  ,\n",
              "        0.  , 0.  , 0.  , 0.  ],\n",
              "       [0.  , 0.  , 0.  , 0.  , 0.  , 0.  , 0.  , 0.  , 0.  , 0.  , 0.  ,\n",
              "        0.  , 0.  , 0.  , 0.  ],\n",
              "       [0.  , 0.  , 0.  , 0.  , 0.  , 0.  , 0.  , 0.  , 0.  , 0.  , 0.  ,\n",
              "        0.  , 0.  , 0.  , 0.  ],\n",
              "       [0.  , 0.  , 0.  , 0.  , 0.  , 0.  , 0.  , 0.  , 0.  , 0.  , 0.  ,\n",
              "        0.  , 0.  , 0.  , 0.  ]])"
            ]
          },
          "metadata": {},
          "execution_count": 23
        }
      ]
    },
    {
      "cell_type": "code",
      "source": [
        "gauss_filter_padded = np.pad(gaussian_filter,((5,5),(5,5)),\"constant\")"
      ],
      "metadata": {
        "id": "7zhXJMOu-LCA"
      },
      "execution_count": 25,
      "outputs": []
    },
    {
      "cell_type": "code",
      "source": [
        "gauss_filter_padded.shape"
      ],
      "metadata": {
        "colab": {
          "base_uri": "https://localhost:8080/"
        },
        "id": "NXOY4WRa-BT-",
        "outputId": "6be5f4bf-7bbe-499f-b22a-0768866217ca"
      },
      "execution_count": 26,
      "outputs": [
        {
          "output_type": "execute_result",
          "data": {
            "text/plain": [
              "(15, 15)"
            ]
          },
          "metadata": {},
          "execution_count": 26
        }
      ]
    },
    {
      "cell_type": "code",
      "source": [
        "gauss_filter_padded"
      ],
      "metadata": {
        "colab": {
          "base_uri": "https://localhost:8080/"
        },
        "id": "EOQ2_ape-rU7",
        "outputId": "e2b083d5-c5e8-4ce0-a762-232849ffe316"
      },
      "execution_count": 27,
      "outputs": [
        {
          "output_type": "execute_result",
          "data": {
            "text/plain": [
              "array([[0.        , 0.        , 0.        , 0.        , 0.        ,\n",
              "        0.        , 0.        , 0.        , 0.        , 0.        ,\n",
              "        0.        , 0.        , 0.        , 0.        , 0.        ],\n",
              "       [0.        , 0.        , 0.        , 0.        , 0.        ,\n",
              "        0.        , 0.        , 0.        , 0.        , 0.        ,\n",
              "        0.        , 0.        , 0.        , 0.        , 0.        ],\n",
              "       [0.        , 0.        , 0.        , 0.        , 0.        ,\n",
              "        0.        , 0.        , 0.        , 0.        , 0.        ,\n",
              "        0.        , 0.        , 0.        , 0.        , 0.        ],\n",
              "       [0.        , 0.        , 0.        , 0.        , 0.        ,\n",
              "        0.        , 0.        , 0.        , 0.        , 0.        ,\n",
              "        0.        , 0.        , 0.        , 0.        , 0.        ],\n",
              "       [0.        , 0.        , 0.        , 0.        , 0.        ,\n",
              "        0.        , 0.        , 0.        , 0.        , 0.        ,\n",
              "        0.        , 0.        , 0.        , 0.        , 0.        ],\n",
              "       [0.        , 0.        , 0.        , 0.        , 0.        ,\n",
              "        0.003663  , 0.01465201, 0.02564103, 0.01465201, 0.003663  ,\n",
              "        0.        , 0.        , 0.        , 0.        , 0.        ],\n",
              "       [0.        , 0.        , 0.        , 0.        , 0.        ,\n",
              "        0.01465201, 0.05860806, 0.0952381 , 0.05860806, 0.01465201,\n",
              "        0.        , 0.        , 0.        , 0.        , 0.        ],\n",
              "       [0.        , 0.        , 0.        , 0.        , 0.        ,\n",
              "        0.02564103, 0.0952381 , 0.15018315, 0.0952381 , 0.02564103,\n",
              "        0.        , 0.        , 0.        , 0.        , 0.        ],\n",
              "       [0.        , 0.        , 0.        , 0.        , 0.        ,\n",
              "        0.01465201, 0.05860806, 0.0952381 , 0.05860806, 0.01465201,\n",
              "        0.        , 0.        , 0.        , 0.        , 0.        ],\n",
              "       [0.        , 0.        , 0.        , 0.        , 0.        ,\n",
              "        0.003663  , 0.01465201, 0.02564103, 0.01465201, 0.003663  ,\n",
              "        0.        , 0.        , 0.        , 0.        , 0.        ],\n",
              "       [0.        , 0.        , 0.        , 0.        , 0.        ,\n",
              "        0.        , 0.        , 0.        , 0.        , 0.        ,\n",
              "        0.        , 0.        , 0.        , 0.        , 0.        ],\n",
              "       [0.        , 0.        , 0.        , 0.        , 0.        ,\n",
              "        0.        , 0.        , 0.        , 0.        , 0.        ,\n",
              "        0.        , 0.        , 0.        , 0.        , 0.        ],\n",
              "       [0.        , 0.        , 0.        , 0.        , 0.        ,\n",
              "        0.        , 0.        , 0.        , 0.        , 0.        ,\n",
              "        0.        , 0.        , 0.        , 0.        , 0.        ],\n",
              "       [0.        , 0.        , 0.        , 0.        , 0.        ,\n",
              "        0.        , 0.        , 0.        , 0.        , 0.        ,\n",
              "        0.        , 0.        , 0.        , 0.        , 0.        ],\n",
              "       [0.        , 0.        , 0.        , 0.        , 0.        ,\n",
              "        0.        , 0.        , 0.        , 0.        , 0.        ,\n",
              "        0.        , 0.        , 0.        , 0.        , 0.        ]])"
            ]
          },
          "metadata": {},
          "execution_count": 27
        }
      ]
    },
    {
      "cell_type": "code",
      "source": [
        "fft_am_padded = scipy.fft.fft2(AM_FILTER_5_padded)"
      ],
      "metadata": {
        "id": "fp9fSOHH-s0i"
      },
      "execution_count": 28,
      "outputs": []
    },
    {
      "cell_type": "code",
      "source": [
        "plt.imshow(np.abs(fft_am_padded))\n",
        "plt.colorbar()"
      ],
      "metadata": {
        "colab": {
          "base_uri": "https://localhost:8080/",
          "height": 452
        },
        "id": "zPbFAsYE-3IQ",
        "outputId": "ba87d8b8-6c32-420e-ccda-ca0f44842fec"
      },
      "execution_count": 29,
      "outputs": [
        {
          "output_type": "execute_result",
          "data": {
            "text/plain": [
              "<matplotlib.colorbar.Colorbar at 0x7b5b94ca4a90>"
            ]
          },
          "metadata": {},
          "execution_count": 29
        },
        {
          "output_type": "display_data",
          "data": {
            "text/plain": [
              "<Figure size 640x480 with 2 Axes>"
            ],
            "image/png": "[encoded data removed]"
          },
          "metadata": {}
        }
      ]
    },
    {
      "cell_type": "code",
      "source": [
        "fft_gauss_padded = scipy.fft.fft2(gauss_filter_padded)"
      ],
      "metadata": {
        "id": "DuJl7k9_9_yy"
      },
      "execution_count": 30,
      "outputs": []
    },
    {
      "cell_type": "code",
      "source": [
        "plt.imshow(np.abs(fft_gauss_padded))\n",
        "plt.colorbar()"
      ],
      "metadata": {
        "colab": {
          "base_uri": "https://localhost:8080/",
          "height": 452
        },
        "id": "D5reLWmQ7EJD",
        "outputId": "a393c187-1bc4-448b-bec6-7da1d9899460"
      },
      "execution_count": 32,
      "outputs": [
        {
          "output_type": "execute_result",
          "data": {
            "text/plain": [
              "<matplotlib.colorbar.Colorbar at 0x7b5b92990040>"
            ]
          },
          "metadata": {},
          "execution_count": 32
        },
        {
          "output_type": "display_data",
          "data": {
            "text/plain": [
              "<Figure size 640x480 with 2 Axes>"
            ],
            "image/png": "[encoded data removed]"
          },
          "metadata": {}
        }
      ]
    },
    {
      "cell_type": "code",
      "source": [],
      "metadata": {
        "id": "YvrtAlnkAtvL"
      },
      "execution_count": null,
      "outputs": []
    },
    {
      "cell_type": "code",
      "source": [],
      "metadata": {
        "id": "i0XwsQS26Yiv"
      },
      "execution_count": null,
      "outputs": []
    }
  ]
}